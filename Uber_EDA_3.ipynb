{
  "nbformat": 4,
  "nbformat_minor": 0,
  "metadata": {
    "kernelspec": {
      "display_name": "Python 3",
      "language": "python",
      "name": "python3"
    },
    "language_info": {
      "codemirror_mode": {
        "name": "ipython",
        "version": 3
      },
      "file_extension": ".py",
      "mimetype": "text/x-python",
      "name": "python",
      "nbconvert_exporter": "python",
      "pygments_lexer": "ipython3",
      "version": "3.8.5"
    },
    "colab": {
      "name": "Uber : EDA 3.ipynb",
      "provenance": []
    }
  },
  "cells": [
    {
      "cell_type": "code",
      "metadata": {
        "id": "bbFSR3-4lQSf"
      },
      "source": [
        "import pandas as pd\n",
        "import numpy as np\n",
        "import matplotlib.pyplot as plt\n",
        "from matplotlib import pyplot\n",
        "import seaborn as sns\n",
        "from datetime import datetime\n",
        "from datetime import timedelta\n",
        "%matplotlib inline"
      ],
      "execution_count": 1,
      "outputs": []
    },
    {
      "cell_type": "code",
      "metadata": {
        "id": "LmvB1FPAlQSi"
      },
      "source": [
        "uber_data= pd.read_csv('Uber Drives 2016.csv')"
      ],
      "execution_count": 2,
      "outputs": []
    },
    {
      "cell_type": "code",
      "metadata": {
        "colab": {
          "base_uri": "https://localhost:8080/",
          "height": 402
        },
        "id": "qRSsKVk0lQSj",
        "outputId": "7c87bc8a-25f1-41ff-b9d3-ef626fbf8155"
      },
      "source": [
        "uber_data"
      ],
      "execution_count": 3,
      "outputs": [
        {
          "output_type": "execute_result",
          "data": {
            "text/html": [
              "<div>\n",
              "<style scoped>\n",
              "    .dataframe tbody tr th:only-of-type {\n",
              "        vertical-align: middle;\n",
              "    }\n",
              "\n",
              "    .dataframe tbody tr th {\n",
              "        vertical-align: top;\n",
              "    }\n",
              "\n",
              "    .dataframe thead th {\n",
              "        text-align: right;\n",
              "    }\n",
              "</style>\n",
              "<table border=\"1\" class=\"dataframe\">\n",
              "  <thead>\n",
              "    <tr style=\"text-align: right;\">\n",
              "      <th></th>\n",
              "      <th>START_DATE*</th>\n",
              "      <th>END_DATE*</th>\n",
              "      <th>CATEGORY*</th>\n",
              "      <th>START*</th>\n",
              "      <th>STOP*</th>\n",
              "      <th>MILES*</th>\n",
              "      <th>PURPOSE*</th>\n",
              "    </tr>\n",
              "  </thead>\n",
              "  <tbody>\n",
              "    <tr>\n",
              "      <th>0</th>\n",
              "      <td>1/1/2016 21:11</td>\n",
              "      <td>1/1/2016 21:17</td>\n",
              "      <td>Business</td>\n",
              "      <td>Fort Pierce</td>\n",
              "      <td>Fort Pierce</td>\n",
              "      <td>5.1</td>\n",
              "      <td>Meal/Entertain</td>\n",
              "    </tr>\n",
              "    <tr>\n",
              "      <th>1</th>\n",
              "      <td>1/2/2016 1:25</td>\n",
              "      <td>1/2/2016 1:37</td>\n",
              "      <td>Business</td>\n",
              "      <td>Fort Pierce</td>\n",
              "      <td>Fort Pierce</td>\n",
              "      <td>5.0</td>\n",
              "      <td>NaN</td>\n",
              "    </tr>\n",
              "    <tr>\n",
              "      <th>2</th>\n",
              "      <td>1/2/2016 20:25</td>\n",
              "      <td>1/2/2016 20:38</td>\n",
              "      <td>Business</td>\n",
              "      <td>Fort Pierce</td>\n",
              "      <td>Fort Pierce</td>\n",
              "      <td>4.8</td>\n",
              "      <td>Errand/Supplies</td>\n",
              "    </tr>\n",
              "    <tr>\n",
              "      <th>3</th>\n",
              "      <td>1/5/2016 17:31</td>\n",
              "      <td>1/5/2016 17:45</td>\n",
              "      <td>Business</td>\n",
              "      <td>Fort Pierce</td>\n",
              "      <td>Fort Pierce</td>\n",
              "      <td>4.7</td>\n",
              "      <td>Meeting</td>\n",
              "    </tr>\n",
              "    <tr>\n",
              "      <th>4</th>\n",
              "      <td>1/6/2016 14:42</td>\n",
              "      <td>1/6/2016 15:49</td>\n",
              "      <td>Business</td>\n",
              "      <td>Fort Pierce</td>\n",
              "      <td>West Palm Beach</td>\n",
              "      <td>63.7</td>\n",
              "      <td>Customer Visit</td>\n",
              "    </tr>\n",
              "    <tr>\n",
              "      <th>...</th>\n",
              "      <td>...</td>\n",
              "      <td>...</td>\n",
              "      <td>...</td>\n",
              "      <td>...</td>\n",
              "      <td>...</td>\n",
              "      <td>...</td>\n",
              "      <td>...</td>\n",
              "    </tr>\n",
              "    <tr>\n",
              "      <th>1151</th>\n",
              "      <td>12/31/2016 13:24</td>\n",
              "      <td>12/31/2016 13:42</td>\n",
              "      <td>Business</td>\n",
              "      <td>Kar?chi</td>\n",
              "      <td>Unknown Location</td>\n",
              "      <td>3.9</td>\n",
              "      <td>Temporary Site</td>\n",
              "    </tr>\n",
              "    <tr>\n",
              "      <th>1152</th>\n",
              "      <td>12/31/2016 15:03</td>\n",
              "      <td>12/31/2016 15:38</td>\n",
              "      <td>Business</td>\n",
              "      <td>Unknown Location</td>\n",
              "      <td>Unknown Location</td>\n",
              "      <td>16.2</td>\n",
              "      <td>Meeting</td>\n",
              "    </tr>\n",
              "    <tr>\n",
              "      <th>1153</th>\n",
              "      <td>12/31/2016 21:32</td>\n",
              "      <td>12/31/2016 21:50</td>\n",
              "      <td>Business</td>\n",
              "      <td>Katunayake</td>\n",
              "      <td>Gampaha</td>\n",
              "      <td>6.4</td>\n",
              "      <td>Temporary Site</td>\n",
              "    </tr>\n",
              "    <tr>\n",
              "      <th>1154</th>\n",
              "      <td>12/31/2016 22:08</td>\n",
              "      <td>12/31/2016 23:51</td>\n",
              "      <td>Business</td>\n",
              "      <td>Gampaha</td>\n",
              "      <td>Ilukwatta</td>\n",
              "      <td>48.2</td>\n",
              "      <td>Temporary Site</td>\n",
              "    </tr>\n",
              "    <tr>\n",
              "      <th>1155</th>\n",
              "      <td>Totals</td>\n",
              "      <td>NaN</td>\n",
              "      <td>NaN</td>\n",
              "      <td>NaN</td>\n",
              "      <td>NaN</td>\n",
              "      <td>12204.7</td>\n",
              "      <td>NaN</td>\n",
              "    </tr>\n",
              "  </tbody>\n",
              "</table>\n",
              "<p>1156 rows × 7 columns</p>\n",
              "</div>"
            ],
            "text/plain": [
              "           START_DATE*         END_DATE*  ...   MILES*         PURPOSE*\n",
              "0       1/1/2016 21:11    1/1/2016 21:17  ...      5.1   Meal/Entertain\n",
              "1        1/2/2016 1:25     1/2/2016 1:37  ...      5.0              NaN\n",
              "2       1/2/2016 20:25    1/2/2016 20:38  ...      4.8  Errand/Supplies\n",
              "3       1/5/2016 17:31    1/5/2016 17:45  ...      4.7          Meeting\n",
              "4       1/6/2016 14:42    1/6/2016 15:49  ...     63.7   Customer Visit\n",
              "...                ...               ...  ...      ...              ...\n",
              "1151  12/31/2016 13:24  12/31/2016 13:42  ...      3.9   Temporary Site\n",
              "1152  12/31/2016 15:03  12/31/2016 15:38  ...     16.2          Meeting\n",
              "1153  12/31/2016 21:32  12/31/2016 21:50  ...      6.4   Temporary Site\n",
              "1154  12/31/2016 22:08  12/31/2016 23:51  ...     48.2   Temporary Site\n",
              "1155            Totals               NaN  ...  12204.7              NaN\n",
              "\n",
              "[1156 rows x 7 columns]"
            ]
          },
          "metadata": {
            "tags": []
          },
          "execution_count": 3
        }
      ]
    },
    {
      "cell_type": "code",
      "metadata": {
        "scrolled": true,
        "colab": {
          "base_uri": "https://localhost:8080/",
          "height": 1000
        },
        "id": "BtloIJhrlQSm",
        "outputId": "b2912935-3bf1-40a9-f77a-309dcf48a157"
      },
      "source": [
        "uber_data.head(60)"
      ],
      "execution_count": 4,
      "outputs": [
        {
          "output_type": "execute_result",
          "data": {
            "text/html": [
              "<div>\n",
              "<style scoped>\n",
              "    .dataframe tbody tr th:only-of-type {\n",
              "        vertical-align: middle;\n",
              "    }\n",
              "\n",
              "    .dataframe tbody tr th {\n",
              "        vertical-align: top;\n",
              "    }\n",
              "\n",
              "    .dataframe thead th {\n",
              "        text-align: right;\n",
              "    }\n",
              "</style>\n",
              "<table border=\"1\" class=\"dataframe\">\n",
              "  <thead>\n",
              "    <tr style=\"text-align: right;\">\n",
              "      <th></th>\n",
              "      <th>START_DATE*</th>\n",
              "      <th>END_DATE*</th>\n",
              "      <th>CATEGORY*</th>\n",
              "      <th>START*</th>\n",
              "      <th>STOP*</th>\n",
              "      <th>MILES*</th>\n",
              "      <th>PURPOSE*</th>\n",
              "    </tr>\n",
              "  </thead>\n",
              "  <tbody>\n",
              "    <tr>\n",
              "      <th>0</th>\n",
              "      <td>1/1/2016 21:11</td>\n",
              "      <td>1/1/2016 21:17</td>\n",
              "      <td>Business</td>\n",
              "      <td>Fort Pierce</td>\n",
              "      <td>Fort Pierce</td>\n",
              "      <td>5.1</td>\n",
              "      <td>Meal/Entertain</td>\n",
              "    </tr>\n",
              "    <tr>\n",
              "      <th>1</th>\n",
              "      <td>1/2/2016 1:25</td>\n",
              "      <td>1/2/2016 1:37</td>\n",
              "      <td>Business</td>\n",
              "      <td>Fort Pierce</td>\n",
              "      <td>Fort Pierce</td>\n",
              "      <td>5.0</td>\n",
              "      <td>NaN</td>\n",
              "    </tr>\n",
              "    <tr>\n",
              "      <th>2</th>\n",
              "      <td>1/2/2016 20:25</td>\n",
              "      <td>1/2/2016 20:38</td>\n",
              "      <td>Business</td>\n",
              "      <td>Fort Pierce</td>\n",
              "      <td>Fort Pierce</td>\n",
              "      <td>4.8</td>\n",
              "      <td>Errand/Supplies</td>\n",
              "    </tr>\n",
              "    <tr>\n",
              "      <th>3</th>\n",
              "      <td>1/5/2016 17:31</td>\n",
              "      <td>1/5/2016 17:45</td>\n",
              "      <td>Business</td>\n",
              "      <td>Fort Pierce</td>\n",
              "      <td>Fort Pierce</td>\n",
              "      <td>4.7</td>\n",
              "      <td>Meeting</td>\n",
              "    </tr>\n",
              "    <tr>\n",
              "      <th>4</th>\n",
              "      <td>1/6/2016 14:42</td>\n",
              "      <td>1/6/2016 15:49</td>\n",
              "      <td>Business</td>\n",
              "      <td>Fort Pierce</td>\n",
              "      <td>West Palm Beach</td>\n",
              "      <td>63.7</td>\n",
              "      <td>Customer Visit</td>\n",
              "    </tr>\n",
              "    <tr>\n",
              "      <th>5</th>\n",
              "      <td>1/6/2016 17:15</td>\n",
              "      <td>1/6/2016 17:19</td>\n",
              "      <td>Business</td>\n",
              "      <td>West Palm Beach</td>\n",
              "      <td>West Palm Beach</td>\n",
              "      <td>4.3</td>\n",
              "      <td>Meal/Entertain</td>\n",
              "    </tr>\n",
              "    <tr>\n",
              "      <th>6</th>\n",
              "      <td>1/6/2016 17:30</td>\n",
              "      <td>1/6/2016 17:35</td>\n",
              "      <td>Business</td>\n",
              "      <td>West Palm Beach</td>\n",
              "      <td>Palm Beach</td>\n",
              "      <td>7.1</td>\n",
              "      <td>Meeting</td>\n",
              "    </tr>\n",
              "    <tr>\n",
              "      <th>7</th>\n",
              "      <td>1/7/2016 13:27</td>\n",
              "      <td>1/7/2016 13:33</td>\n",
              "      <td>Business</td>\n",
              "      <td>Cary</td>\n",
              "      <td>Cary</td>\n",
              "      <td>0.8</td>\n",
              "      <td>Meeting</td>\n",
              "    </tr>\n",
              "    <tr>\n",
              "      <th>8</th>\n",
              "      <td>1/10/2016 8:05</td>\n",
              "      <td>1/10/2016 8:25</td>\n",
              "      <td>Business</td>\n",
              "      <td>Cary</td>\n",
              "      <td>Morrisville</td>\n",
              "      <td>8.3</td>\n",
              "      <td>Meeting</td>\n",
              "    </tr>\n",
              "    <tr>\n",
              "      <th>9</th>\n",
              "      <td>1/10/2016 12:17</td>\n",
              "      <td>1/10/2016 12:44</td>\n",
              "      <td>Business</td>\n",
              "      <td>Jamaica</td>\n",
              "      <td>New York</td>\n",
              "      <td>16.5</td>\n",
              "      <td>Customer Visit</td>\n",
              "    </tr>\n",
              "    <tr>\n",
              "      <th>10</th>\n",
              "      <td>1/10/2016 15:08</td>\n",
              "      <td>1/10/2016 15:51</td>\n",
              "      <td>Business</td>\n",
              "      <td>New York</td>\n",
              "      <td>Queens</td>\n",
              "      <td>10.8</td>\n",
              "      <td>Meeting</td>\n",
              "    </tr>\n",
              "    <tr>\n",
              "      <th>11</th>\n",
              "      <td>1/10/2016 18:18</td>\n",
              "      <td>1/10/2016 18:53</td>\n",
              "      <td>Business</td>\n",
              "      <td>Elmhurst</td>\n",
              "      <td>New York</td>\n",
              "      <td>7.5</td>\n",
              "      <td>Meeting</td>\n",
              "    </tr>\n",
              "    <tr>\n",
              "      <th>12</th>\n",
              "      <td>1/10/2016 19:12</td>\n",
              "      <td>1/10/2016 19:32</td>\n",
              "      <td>Business</td>\n",
              "      <td>Midtown</td>\n",
              "      <td>East Harlem</td>\n",
              "      <td>6.2</td>\n",
              "      <td>Meeting</td>\n",
              "    </tr>\n",
              "    <tr>\n",
              "      <th>13</th>\n",
              "      <td>1/11/2016 8:55</td>\n",
              "      <td>1/11/2016 9:21</td>\n",
              "      <td>Business</td>\n",
              "      <td>East Harlem</td>\n",
              "      <td>NoMad</td>\n",
              "      <td>6.4</td>\n",
              "      <td>Temporary Site</td>\n",
              "    </tr>\n",
              "    <tr>\n",
              "      <th>14</th>\n",
              "      <td>1/11/2016 11:56</td>\n",
              "      <td>1/11/2016 12:03</td>\n",
              "      <td>Business</td>\n",
              "      <td>Flatiron District</td>\n",
              "      <td>Midtown</td>\n",
              "      <td>1.6</td>\n",
              "      <td>Errand/Supplies</td>\n",
              "    </tr>\n",
              "    <tr>\n",
              "      <th>15</th>\n",
              "      <td>1/11/2016 13:32</td>\n",
              "      <td>1/11/2016 13:46</td>\n",
              "      <td>Business</td>\n",
              "      <td>Midtown</td>\n",
              "      <td>Midtown East</td>\n",
              "      <td>1.7</td>\n",
              "      <td>Meal/Entertain</td>\n",
              "    </tr>\n",
              "    <tr>\n",
              "      <th>16</th>\n",
              "      <td>1/11/2016 14:30</td>\n",
              "      <td>1/11/2016 14:43</td>\n",
              "      <td>Business</td>\n",
              "      <td>Midtown East</td>\n",
              "      <td>Midtown</td>\n",
              "      <td>1.9</td>\n",
              "      <td>Meal/Entertain</td>\n",
              "    </tr>\n",
              "    <tr>\n",
              "      <th>17</th>\n",
              "      <td>1/12/2016 12:33</td>\n",
              "      <td>1/12/2016 12:49</td>\n",
              "      <td>Business</td>\n",
              "      <td>Midtown</td>\n",
              "      <td>Hudson Square</td>\n",
              "      <td>1.9</td>\n",
              "      <td>Meal/Entertain</td>\n",
              "    </tr>\n",
              "    <tr>\n",
              "      <th>18</th>\n",
              "      <td>1/12/2016 12:53</td>\n",
              "      <td>1/12/2016 13:09</td>\n",
              "      <td>Business</td>\n",
              "      <td>Hudson Square</td>\n",
              "      <td>Lower Manhattan</td>\n",
              "      <td>4.0</td>\n",
              "      <td>Meal/Entertain</td>\n",
              "    </tr>\n",
              "    <tr>\n",
              "      <th>19</th>\n",
              "      <td>1/12/2016 14:42</td>\n",
              "      <td>1/12/2016 14:56</td>\n",
              "      <td>Business</td>\n",
              "      <td>Lower Manhattan</td>\n",
              "      <td>Hudson Square</td>\n",
              "      <td>1.8</td>\n",
              "      <td>Errand/Supplies</td>\n",
              "    </tr>\n",
              "    <tr>\n",
              "      <th>20</th>\n",
              "      <td>1/12/2016 15:13</td>\n",
              "      <td>1/12/2016 15:28</td>\n",
              "      <td>Business</td>\n",
              "      <td>Hudson Square</td>\n",
              "      <td>Hell's Kitchen</td>\n",
              "      <td>2.4</td>\n",
              "      <td>Customer Visit</td>\n",
              "    </tr>\n",
              "    <tr>\n",
              "      <th>21</th>\n",
              "      <td>1/12/2016 15:42</td>\n",
              "      <td>1/12/2016 15:54</td>\n",
              "      <td>Business</td>\n",
              "      <td>Hell's Kitchen</td>\n",
              "      <td>Midtown</td>\n",
              "      <td>2.0</td>\n",
              "      <td>Errand/Supplies</td>\n",
              "    </tr>\n",
              "    <tr>\n",
              "      <th>22</th>\n",
              "      <td>1/12/2016 16:02</td>\n",
              "      <td>1/12/2016 17:00</td>\n",
              "      <td>Business</td>\n",
              "      <td>New York</td>\n",
              "      <td>Queens County</td>\n",
              "      <td>15.1</td>\n",
              "      <td>Meeting</td>\n",
              "    </tr>\n",
              "    <tr>\n",
              "      <th>23</th>\n",
              "      <td>1/13/2016 13:54</td>\n",
              "      <td>1/13/2016 14:07</td>\n",
              "      <td>Business</td>\n",
              "      <td>Downtown</td>\n",
              "      <td>Gulfton</td>\n",
              "      <td>11.2</td>\n",
              "      <td>Meeting</td>\n",
              "    </tr>\n",
              "    <tr>\n",
              "      <th>24</th>\n",
              "      <td>1/13/2016 15:00</td>\n",
              "      <td>1/13/2016 15:28</td>\n",
              "      <td>Business</td>\n",
              "      <td>Gulfton</td>\n",
              "      <td>Downtown</td>\n",
              "      <td>11.8</td>\n",
              "      <td>Meeting</td>\n",
              "    </tr>\n",
              "    <tr>\n",
              "      <th>25</th>\n",
              "      <td>1/14/2016 16:29</td>\n",
              "      <td>1/14/2016 17:05</td>\n",
              "      <td>Business</td>\n",
              "      <td>Houston</td>\n",
              "      <td>Houston</td>\n",
              "      <td>21.9</td>\n",
              "      <td>Customer Visit</td>\n",
              "    </tr>\n",
              "    <tr>\n",
              "      <th>26</th>\n",
              "      <td>1/14/2016 21:39</td>\n",
              "      <td>1/14/2016 21:45</td>\n",
              "      <td>Business</td>\n",
              "      <td>Eagan Park</td>\n",
              "      <td>Jamestown Court</td>\n",
              "      <td>3.9</td>\n",
              "      <td>Errand/Supplies</td>\n",
              "    </tr>\n",
              "    <tr>\n",
              "      <th>27</th>\n",
              "      <td>1/15/2016 0:41</td>\n",
              "      <td>1/15/2016 1:01</td>\n",
              "      <td>Business</td>\n",
              "      <td>Morrisville</td>\n",
              "      <td>Cary</td>\n",
              "      <td>8.0</td>\n",
              "      <td>Errand/Supplies</td>\n",
              "    </tr>\n",
              "    <tr>\n",
              "      <th>28</th>\n",
              "      <td>1/15/2016 11:43</td>\n",
              "      <td>1/15/2016 12:03</td>\n",
              "      <td>Business</td>\n",
              "      <td>Cary</td>\n",
              "      <td>Durham</td>\n",
              "      <td>10.4</td>\n",
              "      <td>Meal/Entertain</td>\n",
              "    </tr>\n",
              "    <tr>\n",
              "      <th>29</th>\n",
              "      <td>1/15/2016 13:26</td>\n",
              "      <td>1/15/2016 13:44</td>\n",
              "      <td>Business</td>\n",
              "      <td>Durham</td>\n",
              "      <td>Cary</td>\n",
              "      <td>10.4</td>\n",
              "      <td>Meal/Entertain</td>\n",
              "    </tr>\n",
              "    <tr>\n",
              "      <th>30</th>\n",
              "      <td>1/18/2016 14:55</td>\n",
              "      <td>1/18/2016 15:06</td>\n",
              "      <td>Business</td>\n",
              "      <td>Cary</td>\n",
              "      <td>Cary</td>\n",
              "      <td>4.8</td>\n",
              "      <td>Meal/Entertain</td>\n",
              "    </tr>\n",
              "    <tr>\n",
              "      <th>31</th>\n",
              "      <td>1/18/2016 16:13</td>\n",
              "      <td>1/18/2016 16:24</td>\n",
              "      <td>Business</td>\n",
              "      <td>Farmington Woods</td>\n",
              "      <td>Whitebridge</td>\n",
              "      <td>4.7</td>\n",
              "      <td>Meal/Entertain</td>\n",
              "    </tr>\n",
              "    <tr>\n",
              "      <th>32</th>\n",
              "      <td>1/19/2016 9:09</td>\n",
              "      <td>1/19/2016 9:23</td>\n",
              "      <td>Business</td>\n",
              "      <td>Whitebridge</td>\n",
              "      <td>Lake Wellingborough</td>\n",
              "      <td>7.2</td>\n",
              "      <td>NaN</td>\n",
              "    </tr>\n",
              "    <tr>\n",
              "      <th>33</th>\n",
              "      <td>1/19/2016 10:55</td>\n",
              "      <td>1/19/2016 11:09</td>\n",
              "      <td>Business</td>\n",
              "      <td>Lake Wellingborough</td>\n",
              "      <td>Whitebridge</td>\n",
              "      <td>7.6</td>\n",
              "      <td>Temporary Site</td>\n",
              "    </tr>\n",
              "    <tr>\n",
              "      <th>34</th>\n",
              "      <td>1/20/2016 10:36</td>\n",
              "      <td>1/20/2016 11:11</td>\n",
              "      <td>Business</td>\n",
              "      <td>Cary</td>\n",
              "      <td>Raleigh</td>\n",
              "      <td>17.1</td>\n",
              "      <td>Meeting</td>\n",
              "    </tr>\n",
              "    <tr>\n",
              "      <th>35</th>\n",
              "      <td>1/20/2016 11:48</td>\n",
              "      <td>1/20/2016 12:19</td>\n",
              "      <td>Business</td>\n",
              "      <td>Fayetteville Street</td>\n",
              "      <td>Umstead</td>\n",
              "      <td>15.1</td>\n",
              "      <td>Meeting</td>\n",
              "    </tr>\n",
              "    <tr>\n",
              "      <th>36</th>\n",
              "      <td>1/20/2016 13:25</td>\n",
              "      <td>1/20/2016 14:19</td>\n",
              "      <td>Business</td>\n",
              "      <td>Raleigh</td>\n",
              "      <td>Cary</td>\n",
              "      <td>40.2</td>\n",
              "      <td>Customer Visit</td>\n",
              "    </tr>\n",
              "    <tr>\n",
              "      <th>37</th>\n",
              "      <td>1/21/2016 14:25</td>\n",
              "      <td>1/21/2016 14:29</td>\n",
              "      <td>Business</td>\n",
              "      <td>Cary</td>\n",
              "      <td>Cary</td>\n",
              "      <td>1.6</td>\n",
              "      <td>Errand/Supplies</td>\n",
              "    </tr>\n",
              "    <tr>\n",
              "      <th>38</th>\n",
              "      <td>1/21/2016 14:43</td>\n",
              "      <td>1/21/2016 14:51</td>\n",
              "      <td>Business</td>\n",
              "      <td>Cary</td>\n",
              "      <td>Cary</td>\n",
              "      <td>2.4</td>\n",
              "      <td>Meal/Entertain</td>\n",
              "    </tr>\n",
              "    <tr>\n",
              "      <th>39</th>\n",
              "      <td>1/21/2016 16:01</td>\n",
              "      <td>1/21/2016 16:06</td>\n",
              "      <td>Business</td>\n",
              "      <td>Cary</td>\n",
              "      <td>Cary</td>\n",
              "      <td>1.0</td>\n",
              "      <td>Meal/Entertain</td>\n",
              "    </tr>\n",
              "    <tr>\n",
              "      <th>40</th>\n",
              "      <td>1/26/2016 10:41</td>\n",
              "      <td>1/26/2016 10:50</td>\n",
              "      <td>Business</td>\n",
              "      <td>Whitebridge</td>\n",
              "      <td>Hazelwood</td>\n",
              "      <td>2.0</td>\n",
              "      <td>Meal/Entertain</td>\n",
              "    </tr>\n",
              "    <tr>\n",
              "      <th>41</th>\n",
              "      <td>1/26/2016 12:33</td>\n",
              "      <td>1/26/2016 12:41</td>\n",
              "      <td>Business</td>\n",
              "      <td>Hazelwood</td>\n",
              "      <td>Whitebridge</td>\n",
              "      <td>2.3</td>\n",
              "      <td>Errand/Supplies</td>\n",
              "    </tr>\n",
              "    <tr>\n",
              "      <th>42</th>\n",
              "      <td>1/26/2016 16:24</td>\n",
              "      <td>1/26/2016 16:32</td>\n",
              "      <td>Business</td>\n",
              "      <td>Whitebridge</td>\n",
              "      <td>Westpark Place</td>\n",
              "      <td>1.9</td>\n",
              "      <td>Errand/Supplies</td>\n",
              "    </tr>\n",
              "    <tr>\n",
              "      <th>43</th>\n",
              "      <td>1/26/2016 17:17</td>\n",
              "      <td>1/26/2016 17:22</td>\n",
              "      <td>Business</td>\n",
              "      <td>Cary</td>\n",
              "      <td>Cary</td>\n",
              "      <td>1.4</td>\n",
              "      <td>Errand/Supplies</td>\n",
              "    </tr>\n",
              "    <tr>\n",
              "      <th>44</th>\n",
              "      <td>1/26/2016 17:27</td>\n",
              "      <td>1/26/2016 17:29</td>\n",
              "      <td>Business</td>\n",
              "      <td>Cary</td>\n",
              "      <td>Cary</td>\n",
              "      <td>0.5</td>\n",
              "      <td>Errand/Supplies</td>\n",
              "    </tr>\n",
              "    <tr>\n",
              "      <th>45</th>\n",
              "      <td>1/27/2016 9:24</td>\n",
              "      <td>1/27/2016 9:31</td>\n",
              "      <td>Business</td>\n",
              "      <td>Cary</td>\n",
              "      <td>Cary</td>\n",
              "      <td>1.8</td>\n",
              "      <td>Meeting</td>\n",
              "    </tr>\n",
              "    <tr>\n",
              "      <th>46</th>\n",
              "      <td>1/27/2016 10:19</td>\n",
              "      <td>1/27/2016 10:48</td>\n",
              "      <td>Business</td>\n",
              "      <td>Cary</td>\n",
              "      <td>Raleigh</td>\n",
              "      <td>18.7</td>\n",
              "      <td>Customer Visit</td>\n",
              "    </tr>\n",
              "    <tr>\n",
              "      <th>47</th>\n",
              "      <td>1/27/2016 12:34</td>\n",
              "      <td>1/27/2016 12:44</td>\n",
              "      <td>Business</td>\n",
              "      <td>Fairmont</td>\n",
              "      <td>Meredith Townes</td>\n",
              "      <td>3.4</td>\n",
              "      <td>Customer Visit</td>\n",
              "    </tr>\n",
              "    <tr>\n",
              "      <th>48</th>\n",
              "      <td>1/27/2016 14:05</td>\n",
              "      <td>1/27/2016 14:13</td>\n",
              "      <td>Business</td>\n",
              "      <td>Raleigh</td>\n",
              "      <td>Raleigh</td>\n",
              "      <td>2.7</td>\n",
              "      <td>Customer Visit</td>\n",
              "    </tr>\n",
              "    <tr>\n",
              "      <th>49</th>\n",
              "      <td>1/27/2016 14:46</td>\n",
              "      <td>1/27/2016 15:08</td>\n",
              "      <td>Business</td>\n",
              "      <td>Raleigh</td>\n",
              "      <td>Cary</td>\n",
              "      <td>12.9</td>\n",
              "      <td>Customer Visit</td>\n",
              "    </tr>\n",
              "    <tr>\n",
              "      <th>50</th>\n",
              "      <td>1/28/2016 12:28</td>\n",
              "      <td>1/28/2016 13:00</td>\n",
              "      <td>Business</td>\n",
              "      <td>Cary</td>\n",
              "      <td>Raleigh</td>\n",
              "      <td>19.0</td>\n",
              "      <td>Temporary Site</td>\n",
              "    </tr>\n",
              "    <tr>\n",
              "      <th>51</th>\n",
              "      <td>1/28/2016 15:11</td>\n",
              "      <td>1/28/2016 15:31</td>\n",
              "      <td>Business</td>\n",
              "      <td>Meredith Townes</td>\n",
              "      <td>Leesville Hollow</td>\n",
              "      <td>14.7</td>\n",
              "      <td>Meeting</td>\n",
              "    </tr>\n",
              "    <tr>\n",
              "      <th>52</th>\n",
              "      <td>1/28/2016 16:21</td>\n",
              "      <td>1/28/2016 16:51</td>\n",
              "      <td>Business</td>\n",
              "      <td>Raleigh</td>\n",
              "      <td>Cary</td>\n",
              "      <td>15.7</td>\n",
              "      <td>Meeting</td>\n",
              "    </tr>\n",
              "    <tr>\n",
              "      <th>53</th>\n",
              "      <td>1/29/2016 9:31</td>\n",
              "      <td>1/29/2016 9:45</td>\n",
              "      <td>Business</td>\n",
              "      <td>Cary</td>\n",
              "      <td>Cary</td>\n",
              "      <td>4.6</td>\n",
              "      <td>Customer Visit</td>\n",
              "    </tr>\n",
              "    <tr>\n",
              "      <th>54</th>\n",
              "      <td>1/29/2016 10:56</td>\n",
              "      <td>1/29/2016 11:07</td>\n",
              "      <td>Business</td>\n",
              "      <td>Cary</td>\n",
              "      <td>Cary</td>\n",
              "      <td>5.2</td>\n",
              "      <td>Meeting</td>\n",
              "    </tr>\n",
              "    <tr>\n",
              "      <th>55</th>\n",
              "      <td>1/29/2016 11:43</td>\n",
              "      <td>1/29/2016 12:03</td>\n",
              "      <td>Business</td>\n",
              "      <td>Cary</td>\n",
              "      <td>Durham</td>\n",
              "      <td>10.4</td>\n",
              "      <td>Meeting</td>\n",
              "    </tr>\n",
              "    <tr>\n",
              "      <th>56</th>\n",
              "      <td>1/29/2016 13:24</td>\n",
              "      <td>1/29/2016 13:47</td>\n",
              "      <td>Business</td>\n",
              "      <td>Durham</td>\n",
              "      <td>Cary</td>\n",
              "      <td>10.1</td>\n",
              "      <td>Meeting</td>\n",
              "    </tr>\n",
              "    <tr>\n",
              "      <th>57</th>\n",
              "      <td>1/29/2016 18:31</td>\n",
              "      <td>1/29/2016 18:52</td>\n",
              "      <td>Business</td>\n",
              "      <td>Cary</td>\n",
              "      <td>Apex</td>\n",
              "      <td>5.8</td>\n",
              "      <td>Errand/Supplies</td>\n",
              "    </tr>\n",
              "    <tr>\n",
              "      <th>58</th>\n",
              "      <td>1/29/2016 21:21</td>\n",
              "      <td>1/29/2016 21:40</td>\n",
              "      <td>Business</td>\n",
              "      <td>Apex</td>\n",
              "      <td>Cary</td>\n",
              "      <td>5.5</td>\n",
              "      <td>Meal/Entertain</td>\n",
              "    </tr>\n",
              "    <tr>\n",
              "      <th>59</th>\n",
              "      <td>1/30/2016 16:21</td>\n",
              "      <td>1/30/2016 16:33</td>\n",
              "      <td>Business</td>\n",
              "      <td>Cary</td>\n",
              "      <td>Apex</td>\n",
              "      <td>5.7</td>\n",
              "      <td>Errand/Supplies</td>\n",
              "    </tr>\n",
              "  </tbody>\n",
              "</table>\n",
              "</div>"
            ],
            "text/plain": [
              "        START_DATE*        END_DATE*  ... MILES*         PURPOSE*\n",
              "0    1/1/2016 21:11   1/1/2016 21:17  ...    5.1   Meal/Entertain\n",
              "1     1/2/2016 1:25    1/2/2016 1:37  ...    5.0              NaN\n",
              "2    1/2/2016 20:25   1/2/2016 20:38  ...    4.8  Errand/Supplies\n",
              "3    1/5/2016 17:31   1/5/2016 17:45  ...    4.7          Meeting\n",
              "4    1/6/2016 14:42   1/6/2016 15:49  ...   63.7   Customer Visit\n",
              "5    1/6/2016 17:15   1/6/2016 17:19  ...    4.3   Meal/Entertain\n",
              "6    1/6/2016 17:30   1/6/2016 17:35  ...    7.1          Meeting\n",
              "7    1/7/2016 13:27   1/7/2016 13:33  ...    0.8          Meeting\n",
              "8    1/10/2016 8:05   1/10/2016 8:25  ...    8.3          Meeting\n",
              "9   1/10/2016 12:17  1/10/2016 12:44  ...   16.5   Customer Visit\n",
              "10  1/10/2016 15:08  1/10/2016 15:51  ...   10.8          Meeting\n",
              "11  1/10/2016 18:18  1/10/2016 18:53  ...    7.5          Meeting\n",
              "12  1/10/2016 19:12  1/10/2016 19:32  ...    6.2          Meeting\n",
              "13   1/11/2016 8:55   1/11/2016 9:21  ...    6.4   Temporary Site\n",
              "14  1/11/2016 11:56  1/11/2016 12:03  ...    1.6  Errand/Supplies\n",
              "15  1/11/2016 13:32  1/11/2016 13:46  ...    1.7   Meal/Entertain\n",
              "16  1/11/2016 14:30  1/11/2016 14:43  ...    1.9   Meal/Entertain\n",
              "17  1/12/2016 12:33  1/12/2016 12:49  ...    1.9   Meal/Entertain\n",
              "18  1/12/2016 12:53  1/12/2016 13:09  ...    4.0   Meal/Entertain\n",
              "19  1/12/2016 14:42  1/12/2016 14:56  ...    1.8  Errand/Supplies\n",
              "20  1/12/2016 15:13  1/12/2016 15:28  ...    2.4   Customer Visit\n",
              "21  1/12/2016 15:42  1/12/2016 15:54  ...    2.0  Errand/Supplies\n",
              "22  1/12/2016 16:02  1/12/2016 17:00  ...   15.1          Meeting\n",
              "23  1/13/2016 13:54  1/13/2016 14:07  ...   11.2          Meeting\n",
              "24  1/13/2016 15:00  1/13/2016 15:28  ...   11.8          Meeting\n",
              "25  1/14/2016 16:29  1/14/2016 17:05  ...   21.9   Customer Visit\n",
              "26  1/14/2016 21:39  1/14/2016 21:45  ...    3.9  Errand/Supplies\n",
              "27   1/15/2016 0:41   1/15/2016 1:01  ...    8.0  Errand/Supplies\n",
              "28  1/15/2016 11:43  1/15/2016 12:03  ...   10.4   Meal/Entertain\n",
              "29  1/15/2016 13:26  1/15/2016 13:44  ...   10.4   Meal/Entertain\n",
              "30  1/18/2016 14:55  1/18/2016 15:06  ...    4.8   Meal/Entertain\n",
              "31  1/18/2016 16:13  1/18/2016 16:24  ...    4.7   Meal/Entertain\n",
              "32   1/19/2016 9:09   1/19/2016 9:23  ...    7.2              NaN\n",
              "33  1/19/2016 10:55  1/19/2016 11:09  ...    7.6   Temporary Site\n",
              "34  1/20/2016 10:36  1/20/2016 11:11  ...   17.1          Meeting\n",
              "35  1/20/2016 11:48  1/20/2016 12:19  ...   15.1          Meeting\n",
              "36  1/20/2016 13:25  1/20/2016 14:19  ...   40.2   Customer Visit\n",
              "37  1/21/2016 14:25  1/21/2016 14:29  ...    1.6  Errand/Supplies\n",
              "38  1/21/2016 14:43  1/21/2016 14:51  ...    2.4   Meal/Entertain\n",
              "39  1/21/2016 16:01  1/21/2016 16:06  ...    1.0   Meal/Entertain\n",
              "40  1/26/2016 10:41  1/26/2016 10:50  ...    2.0   Meal/Entertain\n",
              "41  1/26/2016 12:33  1/26/2016 12:41  ...    2.3  Errand/Supplies\n",
              "42  1/26/2016 16:24  1/26/2016 16:32  ...    1.9  Errand/Supplies\n",
              "43  1/26/2016 17:17  1/26/2016 17:22  ...    1.4  Errand/Supplies\n",
              "44  1/26/2016 17:27  1/26/2016 17:29  ...    0.5  Errand/Supplies\n",
              "45   1/27/2016 9:24   1/27/2016 9:31  ...    1.8          Meeting\n",
              "46  1/27/2016 10:19  1/27/2016 10:48  ...   18.7   Customer Visit\n",
              "47  1/27/2016 12:34  1/27/2016 12:44  ...    3.4   Customer Visit\n",
              "48  1/27/2016 14:05  1/27/2016 14:13  ...    2.7   Customer Visit\n",
              "49  1/27/2016 14:46  1/27/2016 15:08  ...   12.9   Customer Visit\n",
              "50  1/28/2016 12:28  1/28/2016 13:00  ...   19.0   Temporary Site\n",
              "51  1/28/2016 15:11  1/28/2016 15:31  ...   14.7          Meeting\n",
              "52  1/28/2016 16:21  1/28/2016 16:51  ...   15.7          Meeting\n",
              "53   1/29/2016 9:31   1/29/2016 9:45  ...    4.6   Customer Visit\n",
              "54  1/29/2016 10:56  1/29/2016 11:07  ...    5.2          Meeting\n",
              "55  1/29/2016 11:43  1/29/2016 12:03  ...   10.4          Meeting\n",
              "56  1/29/2016 13:24  1/29/2016 13:47  ...   10.1          Meeting\n",
              "57  1/29/2016 18:31  1/29/2016 18:52  ...    5.8  Errand/Supplies\n",
              "58  1/29/2016 21:21  1/29/2016 21:40  ...    5.5   Meal/Entertain\n",
              "59  1/30/2016 16:21  1/30/2016 16:33  ...    5.7  Errand/Supplies\n",
              "\n",
              "[60 rows x 7 columns]"
            ]
          },
          "metadata": {
            "tags": []
          },
          "execution_count": 4
        }
      ]
    },
    {
      "cell_type": "code",
      "metadata": {
        "colab": {
          "base_uri": "https://localhost:8080/",
          "height": 284
        },
        "id": "LsxBl7KilQSo",
        "outputId": "406de667-4af0-4236-a140-9f3c3bb1b529"
      },
      "source": [
        "uber_data.describe()"
      ],
      "execution_count": 5,
      "outputs": [
        {
          "output_type": "execute_result",
          "data": {
            "text/html": [
              "<div>\n",
              "<style scoped>\n",
              "    .dataframe tbody tr th:only-of-type {\n",
              "        vertical-align: middle;\n",
              "    }\n",
              "\n",
              "    .dataframe tbody tr th {\n",
              "        vertical-align: top;\n",
              "    }\n",
              "\n",
              "    .dataframe thead th {\n",
              "        text-align: right;\n",
              "    }\n",
              "</style>\n",
              "<table border=\"1\" class=\"dataframe\">\n",
              "  <thead>\n",
              "    <tr style=\"text-align: right;\">\n",
              "      <th></th>\n",
              "      <th>MILES*</th>\n",
              "    </tr>\n",
              "  </thead>\n",
              "  <tbody>\n",
              "    <tr>\n",
              "      <th>count</th>\n",
              "      <td>1156.000000</td>\n",
              "    </tr>\n",
              "    <tr>\n",
              "      <th>mean</th>\n",
              "      <td>21.115398</td>\n",
              "    </tr>\n",
              "    <tr>\n",
              "      <th>std</th>\n",
              "      <td>359.299007</td>\n",
              "    </tr>\n",
              "    <tr>\n",
              "      <th>min</th>\n",
              "      <td>0.500000</td>\n",
              "    </tr>\n",
              "    <tr>\n",
              "      <th>25%</th>\n",
              "      <td>2.900000</td>\n",
              "    </tr>\n",
              "    <tr>\n",
              "      <th>50%</th>\n",
              "      <td>6.000000</td>\n",
              "    </tr>\n",
              "    <tr>\n",
              "      <th>75%</th>\n",
              "      <td>10.400000</td>\n",
              "    </tr>\n",
              "    <tr>\n",
              "      <th>max</th>\n",
              "      <td>12204.700000</td>\n",
              "    </tr>\n",
              "  </tbody>\n",
              "</table>\n",
              "</div>"
            ],
            "text/plain": [
              "             MILES*\n",
              "count   1156.000000\n",
              "mean      21.115398\n",
              "std      359.299007\n",
              "min        0.500000\n",
              "25%        2.900000\n",
              "50%        6.000000\n",
              "75%       10.400000\n",
              "max    12204.700000"
            ]
          },
          "metadata": {
            "tags": []
          },
          "execution_count": 5
        }
      ]
    },
    {
      "cell_type": "code",
      "metadata": {
        "colab": {
          "base_uri": "https://localhost:8080/"
        },
        "id": "EEU32xpSlQSp",
        "outputId": "de831f89-3c8e-4833-8cdd-03cb1bd86fa2"
      },
      "source": [
        "uber_data.info()"
      ],
      "execution_count": 6,
      "outputs": [
        {
          "output_type": "stream",
          "text": [
            "<class 'pandas.core.frame.DataFrame'>\n",
            "RangeIndex: 1156 entries, 0 to 1155\n",
            "Data columns (total 7 columns):\n",
            " #   Column       Non-Null Count  Dtype  \n",
            "---  ------       --------------  -----  \n",
            " 0   START_DATE*  1156 non-null   object \n",
            " 1   END_DATE*    1155 non-null   object \n",
            " 2   CATEGORY*    1155 non-null   object \n",
            " 3   START*       1155 non-null   object \n",
            " 4   STOP*        1155 non-null   object \n",
            " 5   MILES*       1156 non-null   float64\n",
            " 6   PURPOSE*     653 non-null    object \n",
            "dtypes: float64(1), object(6)\n",
            "memory usage: 63.3+ KB\n"
          ],
          "name": "stdout"
        }
      ]
    },
    {
      "cell_type": "code",
      "metadata": {
        "colab": {
          "base_uri": "https://localhost:8080/"
        },
        "id": "wAg3P5GflQSq",
        "outputId": "8ba0c859-a2ab-4854-9bb7-fbccde07e652"
      },
      "source": [
        "uber_data['CATEGORY*'].unique()"
      ],
      "execution_count": 7,
      "outputs": [
        {
          "output_type": "execute_result",
          "data": {
            "text/plain": [
              "array(['Business', 'Personal', nan], dtype=object)"
            ]
          },
          "metadata": {
            "tags": []
          },
          "execution_count": 7
        }
      ]
    },
    {
      "cell_type": "code",
      "metadata": {
        "colab": {
          "base_uri": "https://localhost:8080/"
        },
        "id": "ocX3fxVWlQSr",
        "outputId": "6cdd0c71-4e42-4c9b-845e-5381ae774927"
      },
      "source": [
        "uber_data['CATEGORY*'].isnull()"
      ],
      "execution_count": 8,
      "outputs": [
        {
          "output_type": "execute_result",
          "data": {
            "text/plain": [
              "0       False\n",
              "1       False\n",
              "2       False\n",
              "3       False\n",
              "4       False\n",
              "        ...  \n",
              "1151    False\n",
              "1152    False\n",
              "1153    False\n",
              "1154    False\n",
              "1155     True\n",
              "Name: CATEGORY*, Length: 1156, dtype: bool"
            ]
          },
          "metadata": {
            "tags": []
          },
          "execution_count": 8
        }
      ]
    },
    {
      "cell_type": "code",
      "metadata": {
        "colab": {
          "base_uri": "https://localhost:8080/"
        },
        "id": "uSuJv6v6lQSs",
        "outputId": "dd956811-0f7b-402d-b464-016a64c60d22"
      },
      "source": [
        "uber_data.isna().sum()"
      ],
      "execution_count": 9,
      "outputs": [
        {
          "output_type": "execute_result",
          "data": {
            "text/plain": [
              "START_DATE*      0\n",
              "END_DATE*        1\n",
              "CATEGORY*        1\n",
              "START*           1\n",
              "STOP*            1\n",
              "MILES*           0\n",
              "PURPOSE*       503\n",
              "dtype: int64"
            ]
          },
          "metadata": {
            "tags": []
          },
          "execution_count": 9
        }
      ]
    },
    {
      "cell_type": "code",
      "metadata": {
        "colab": {
          "base_uri": "https://localhost:8080/"
        },
        "id": "5_urtvHClQSt",
        "outputId": "9ff9a2d6-f7dc-410c-c492-f0b822b0aa54"
      },
      "source": [
        "uber_data['START_DATE*'].isnull().sum()"
      ],
      "execution_count": 10,
      "outputs": [
        {
          "output_type": "execute_result",
          "data": {
            "text/plain": [
              "0"
            ]
          },
          "metadata": {
            "tags": []
          },
          "execution_count": 10
        }
      ]
    },
    {
      "cell_type": "code",
      "metadata": {
        "scrolled": true,
        "colab": {
          "base_uri": "https://localhost:8080/"
        },
        "id": "3zQJp6iRlQSu",
        "outputId": "f1a114f0-0f47-4ddf-b96e-7dcb52eca3cf"
      },
      "source": [
        "uber_data['START*'].nunique()"
      ],
      "execution_count": 11,
      "outputs": [
        {
          "output_type": "execute_result",
          "data": {
            "text/plain": [
              "177"
            ]
          },
          "metadata": {
            "tags": []
          },
          "execution_count": 11
        }
      ]
    },
    {
      "cell_type": "code",
      "metadata": {
        "scrolled": true,
        "colab": {
          "base_uri": "https://localhost:8080/"
        },
        "id": "20BmL6h7lQSv",
        "outputId": "fa19795f-a703-4790-fdc5-384871d15b94"
      },
      "source": [
        "uber_data['STOP*'].nunique()"
      ],
      "execution_count": 12,
      "outputs": [
        {
          "output_type": "execute_result",
          "data": {
            "text/plain": [
              "188"
            ]
          },
          "metadata": {
            "tags": []
          },
          "execution_count": 12
        }
      ]
    },
    {
      "cell_type": "code",
      "metadata": {
        "colab": {
          "base_uri": "https://localhost:8080/"
        },
        "id": "sLw402lklQSw",
        "outputId": "6c33940f-e0dc-4ec7-ee0c-eba341c13dbc"
      },
      "source": [
        "uber_data['PURPOSE*'].isnull().sum()"
      ],
      "execution_count": 13,
      "outputs": [
        {
          "output_type": "execute_result",
          "data": {
            "text/plain": [
              "503"
            ]
          },
          "metadata": {
            "tags": []
          },
          "execution_count": 13
        }
      ]
    },
    {
      "cell_type": "code",
      "metadata": {
        "scrolled": true,
        "colab": {
          "base_uri": "https://localhost:8080/",
          "height": 402
        },
        "id": "_H57DjjTlQSx",
        "outputId": "61e4909c-5756-49a0-fc56-6ecc4468b4c8"
      },
      "source": [
        "uber_data"
      ],
      "execution_count": 14,
      "outputs": [
        {
          "output_type": "execute_result",
          "data": {
            "text/html": [
              "<div>\n",
              "<style scoped>\n",
              "    .dataframe tbody tr th:only-of-type {\n",
              "        vertical-align: middle;\n",
              "    }\n",
              "\n",
              "    .dataframe tbody tr th {\n",
              "        vertical-align: top;\n",
              "    }\n",
              "\n",
              "    .dataframe thead th {\n",
              "        text-align: right;\n",
              "    }\n",
              "</style>\n",
              "<table border=\"1\" class=\"dataframe\">\n",
              "  <thead>\n",
              "    <tr style=\"text-align: right;\">\n",
              "      <th></th>\n",
              "      <th>START_DATE*</th>\n",
              "      <th>END_DATE*</th>\n",
              "      <th>CATEGORY*</th>\n",
              "      <th>START*</th>\n",
              "      <th>STOP*</th>\n",
              "      <th>MILES*</th>\n",
              "      <th>PURPOSE*</th>\n",
              "    </tr>\n",
              "  </thead>\n",
              "  <tbody>\n",
              "    <tr>\n",
              "      <th>0</th>\n",
              "      <td>1/1/2016 21:11</td>\n",
              "      <td>1/1/2016 21:17</td>\n",
              "      <td>Business</td>\n",
              "      <td>Fort Pierce</td>\n",
              "      <td>Fort Pierce</td>\n",
              "      <td>5.1</td>\n",
              "      <td>Meal/Entertain</td>\n",
              "    </tr>\n",
              "    <tr>\n",
              "      <th>1</th>\n",
              "      <td>1/2/2016 1:25</td>\n",
              "      <td>1/2/2016 1:37</td>\n",
              "      <td>Business</td>\n",
              "      <td>Fort Pierce</td>\n",
              "      <td>Fort Pierce</td>\n",
              "      <td>5.0</td>\n",
              "      <td>NaN</td>\n",
              "    </tr>\n",
              "    <tr>\n",
              "      <th>2</th>\n",
              "      <td>1/2/2016 20:25</td>\n",
              "      <td>1/2/2016 20:38</td>\n",
              "      <td>Business</td>\n",
              "      <td>Fort Pierce</td>\n",
              "      <td>Fort Pierce</td>\n",
              "      <td>4.8</td>\n",
              "      <td>Errand/Supplies</td>\n",
              "    </tr>\n",
              "    <tr>\n",
              "      <th>3</th>\n",
              "      <td>1/5/2016 17:31</td>\n",
              "      <td>1/5/2016 17:45</td>\n",
              "      <td>Business</td>\n",
              "      <td>Fort Pierce</td>\n",
              "      <td>Fort Pierce</td>\n",
              "      <td>4.7</td>\n",
              "      <td>Meeting</td>\n",
              "    </tr>\n",
              "    <tr>\n",
              "      <th>4</th>\n",
              "      <td>1/6/2016 14:42</td>\n",
              "      <td>1/6/2016 15:49</td>\n",
              "      <td>Business</td>\n",
              "      <td>Fort Pierce</td>\n",
              "      <td>West Palm Beach</td>\n",
              "      <td>63.7</td>\n",
              "      <td>Customer Visit</td>\n",
              "    </tr>\n",
              "    <tr>\n",
              "      <th>...</th>\n",
              "      <td>...</td>\n",
              "      <td>...</td>\n",
              "      <td>...</td>\n",
              "      <td>...</td>\n",
              "      <td>...</td>\n",
              "      <td>...</td>\n",
              "      <td>...</td>\n",
              "    </tr>\n",
              "    <tr>\n",
              "      <th>1151</th>\n",
              "      <td>12/31/2016 13:24</td>\n",
              "      <td>12/31/2016 13:42</td>\n",
              "      <td>Business</td>\n",
              "      <td>Kar?chi</td>\n",
              "      <td>Unknown Location</td>\n",
              "      <td>3.9</td>\n",
              "      <td>Temporary Site</td>\n",
              "    </tr>\n",
              "    <tr>\n",
              "      <th>1152</th>\n",
              "      <td>12/31/2016 15:03</td>\n",
              "      <td>12/31/2016 15:38</td>\n",
              "      <td>Business</td>\n",
              "      <td>Unknown Location</td>\n",
              "      <td>Unknown Location</td>\n",
              "      <td>16.2</td>\n",
              "      <td>Meeting</td>\n",
              "    </tr>\n",
              "    <tr>\n",
              "      <th>1153</th>\n",
              "      <td>12/31/2016 21:32</td>\n",
              "      <td>12/31/2016 21:50</td>\n",
              "      <td>Business</td>\n",
              "      <td>Katunayake</td>\n",
              "      <td>Gampaha</td>\n",
              "      <td>6.4</td>\n",
              "      <td>Temporary Site</td>\n",
              "    </tr>\n",
              "    <tr>\n",
              "      <th>1154</th>\n",
              "      <td>12/31/2016 22:08</td>\n",
              "      <td>12/31/2016 23:51</td>\n",
              "      <td>Business</td>\n",
              "      <td>Gampaha</td>\n",
              "      <td>Ilukwatta</td>\n",
              "      <td>48.2</td>\n",
              "      <td>Temporary Site</td>\n",
              "    </tr>\n",
              "    <tr>\n",
              "      <th>1155</th>\n",
              "      <td>Totals</td>\n",
              "      <td>NaN</td>\n",
              "      <td>NaN</td>\n",
              "      <td>NaN</td>\n",
              "      <td>NaN</td>\n",
              "      <td>12204.7</td>\n",
              "      <td>NaN</td>\n",
              "    </tr>\n",
              "  </tbody>\n",
              "</table>\n",
              "<p>1156 rows × 7 columns</p>\n",
              "</div>"
            ],
            "text/plain": [
              "           START_DATE*         END_DATE*  ...   MILES*         PURPOSE*\n",
              "0       1/1/2016 21:11    1/1/2016 21:17  ...      5.1   Meal/Entertain\n",
              "1        1/2/2016 1:25     1/2/2016 1:37  ...      5.0              NaN\n",
              "2       1/2/2016 20:25    1/2/2016 20:38  ...      4.8  Errand/Supplies\n",
              "3       1/5/2016 17:31    1/5/2016 17:45  ...      4.7          Meeting\n",
              "4       1/6/2016 14:42    1/6/2016 15:49  ...     63.7   Customer Visit\n",
              "...                ...               ...  ...      ...              ...\n",
              "1151  12/31/2016 13:24  12/31/2016 13:42  ...      3.9   Temporary Site\n",
              "1152  12/31/2016 15:03  12/31/2016 15:38  ...     16.2          Meeting\n",
              "1153  12/31/2016 21:32  12/31/2016 21:50  ...      6.4   Temporary Site\n",
              "1154  12/31/2016 22:08  12/31/2016 23:51  ...     48.2   Temporary Site\n",
              "1155            Totals               NaN  ...  12204.7              NaN\n",
              "\n",
              "[1156 rows x 7 columns]"
            ]
          },
          "metadata": {
            "tags": []
          },
          "execution_count": 14
        }
      ]
    },
    {
      "cell_type": "code",
      "metadata": {
        "colab": {
          "base_uri": "https://localhost:8080/",
          "height": 297
        },
        "id": "2Ab6iYrjlQSy",
        "outputId": "5ba51bd0-b1c2-4a18-cfd1-1e50e54a464f"
      },
      "source": [
        "sns.boxplot(data=uber_data.head(200) , x='CATEGORY*', y='MILES*')"
      ],
      "execution_count": 15,
      "outputs": [
        {
          "output_type": "execute_result",
          "data": {
            "text/plain": [
              "<matplotlib.axes._subplots.AxesSubplot at 0x7f758ee14390>"
            ]
          },
          "metadata": {
            "tags": []
          },
          "execution_count": 15
        },
        {
          "output_type": "display_data",
          "data": {
            "image/png": "[encoded data removed]",
            "text/plain": [
              "<Figure size 432x288 with 1 Axes>"
            ]
          },
          "metadata": {
            "tags": [],
            "needs_background": "light"
          }
        }
      ]
    },
    {
      "cell_type": "code",
      "metadata": {
        "colab": {
          "base_uri": "https://localhost:8080/",
          "height": 352
        },
        "id": "ec-6RGcUlQSz",
        "outputId": "e3d8a0f0-a142-4518-b86b-910c84080f58"
      },
      "source": [
        "plt.figure(figsize=(10,5))\n",
        "sns.boxplot(data=uber_data.head(200) , x='PURPOSE*', y='MILES*')"
      ],
      "execution_count": 16,
      "outputs": [
        {
          "output_type": "execute_result",
          "data": {
            "text/plain": [
              "<matplotlib.axes._subplots.AxesSubplot at 0x7f758e46ddd0>"
            ]
          },
          "metadata": {
            "tags": []
          },
          "execution_count": 16
        },
        {
          "output_type": "display_data",
          "data": {
            "image/png": "[encoded data removed]",
            "text/plain": [
              "<Figure size 720x360 with 1 Axes>"
            ]
          },
          "metadata": {
            "tags": [],
            "needs_background": "light"
          }
        }
      ]
    },
    {
      "cell_type": "code",
      "metadata": {
        "colab": {
          "base_uri": "https://localhost:8080/",
          "height": 514
        },
        "id": "eAgyIP4QlQS0",
        "outputId": "dfa135de-413c-4bc6-d633-0126a1e5ba8b"
      },
      "source": [
        "plt.figure(figsize=(15,8))\n",
        "\n",
        "sns.countplot(data=uber_data, x='PURPOSE*')"
      ],
      "execution_count": 17,
      "outputs": [
        {
          "output_type": "execute_result",
          "data": {
            "text/plain": [
              "<matplotlib.axes._subplots.AxesSubplot at 0x7f758df8bf10>"
            ]
          },
          "metadata": {
            "tags": []
          },
          "execution_count": 17
        },
        {
          "output_type": "display_data",
          "data": {
            "image/png": "[encoded data removed]",
            "text/plain": [
              "<Figure size 1080x576 with 1 Axes>"
            ]
          },
          "metadata": {
            "tags": [],
            "needs_background": "light"
          }
        }
      ]
    },
    {
      "cell_type": "code",
      "metadata": {
        "colab": {
          "base_uri": "https://localhost:8080/",
          "height": 352
        },
        "id": "S3u0XjoblQS1",
        "outputId": "f5277dca-67c0-4c82-b4e4-3755776c3aad"
      },
      "source": [
        "plt.figure(figsize=(5,5))\n",
        "\n",
        "sns.countplot(data=uber_data, x='CATEGORY*')"
      ],
      "execution_count": 18,
      "outputs": [
        {
          "output_type": "execute_result",
          "data": {
            "text/plain": [
              "<matplotlib.axes._subplots.AxesSubplot at 0x7f758df1c610>"
            ]
          },
          "metadata": {
            "tags": []
          },
          "execution_count": 18
        },
        {
          "output_type": "display_data",
          "data": {
            "image/png": "[encoded data removed]",
            "text/plain": [
              "<Figure size 360x360 with 1 Axes>"
            ]
          },
          "metadata": {
            "tags": [],
            "needs_background": "light"
          }
        }
      ]
    },
    {
      "cell_type": "code",
      "metadata": {
        "colab": {
          "base_uri": "https://localhost:8080/",
          "height": 401
        },
        "id": "jdZ0eKI2lQS2",
        "outputId": "c89cdd2e-7ae7-4c01-a8cb-5878bbb1219a"
      },
      "source": [
        "sns.catplot(data=uber_data, x='PURPOSE*', y='MILES*', hue='CATEGORY*',  aspect=3)"
      ],
      "execution_count": 19,
      "outputs": [
        {
          "output_type": "execute_result",
          "data": {
            "text/plain": [
              "<seaborn.axisgrid.FacetGrid at 0x7f758df333d0>"
            ]
          },
          "metadata": {
            "tags": []
          },
          "execution_count": 19
        },
        {
          "output_type": "display_data",
          "data": {
            "image/png": "[encoded data removed]",
            "text/plain": [
              "<Figure size 1160.38x360 with 1 Axes>"
            ]
          },
          "metadata": {
            "tags": [],
            "needs_background": "light"
          }
        }
      ]
    },
    {
      "cell_type": "code",
      "metadata": {
        "colab": {
          "base_uri": "https://localhost:8080/"
        },
        "id": "mlOY0BtBlQS3",
        "outputId": "20a18b37-bd0e-4217-e0a9-743a124f7007"
      },
      "source": [
        "#here are the top 5 trips of start destinations\n",
        "uber_data['START*'].value_counts().head()"
      ],
      "execution_count": 20,
      "outputs": [
        {
          "output_type": "execute_result",
          "data": {
            "text/plain": [
              "Cary                201\n",
              "Unknown Location    148\n",
              "Morrisville          85\n",
              "Whitebridge          68\n",
              "Islamabad            57\n",
              "Name: START*, dtype: int64"
            ]
          },
          "metadata": {
            "tags": []
          },
          "execution_count": 20
        }
      ]
    },
    {
      "cell_type": "code",
      "metadata": {
        "colab": {
          "base_uri": "https://localhost:8080/"
        },
        "id": "v2FLOnmTlQS4",
        "outputId": "4737b81d-321e-4f93-92ab-d94df31b707e"
      },
      "source": [
        "uber_data['MILES*']"
      ],
      "execution_count": 21,
      "outputs": [
        {
          "output_type": "execute_result",
          "data": {
            "text/plain": [
              "0           5.1\n",
              "1           5.0\n",
              "2           4.8\n",
              "3           4.7\n",
              "4          63.7\n",
              "         ...   \n",
              "1151        3.9\n",
              "1152       16.2\n",
              "1153        6.4\n",
              "1154       48.2\n",
              "1155    12204.7\n",
              "Name: MILES*, Length: 1156, dtype: float64"
            ]
          },
          "metadata": {
            "tags": []
          },
          "execution_count": 21
        }
      ]
    },
    {
      "cell_type": "code",
      "metadata": {
        "colab": {
          "base_uri": "https://localhost:8080/",
          "height": 195
        },
        "id": "yEC7NxTglQS5",
        "outputId": "ee4cab69-e0aa-41c9-cc48-c566899e2d11"
      },
      "source": [
        "#here is the farthest start and stop pairs\n",
        "#here Latta and Jacksonville are the farthest pair\n",
        "uber_data.sort_values(by=['MILES*'], ascending=False).head()"
      ],
      "execution_count": 22,
      "outputs": [
        {
          "output_type": "execute_result",
          "data": {
            "text/html": [
              "<div>\n",
              "<style scoped>\n",
              "    .dataframe tbody tr th:only-of-type {\n",
              "        vertical-align: middle;\n",
              "    }\n",
              "\n",
              "    .dataframe tbody tr th {\n",
              "        vertical-align: top;\n",
              "    }\n",
              "\n",
              "    .dataframe thead th {\n",
              "        text-align: right;\n",
              "    }\n",
              "</style>\n",
              "<table border=\"1\" class=\"dataframe\">\n",
              "  <thead>\n",
              "    <tr style=\"text-align: right;\">\n",
              "      <th></th>\n",
              "      <th>START_DATE*</th>\n",
              "      <th>END_DATE*</th>\n",
              "      <th>CATEGORY*</th>\n",
              "      <th>START*</th>\n",
              "      <th>STOP*</th>\n",
              "      <th>MILES*</th>\n",
              "      <th>PURPOSE*</th>\n",
              "    </tr>\n",
              "  </thead>\n",
              "  <tbody>\n",
              "    <tr>\n",
              "      <th>1155</th>\n",
              "      <td>Totals</td>\n",
              "      <td>NaN</td>\n",
              "      <td>NaN</td>\n",
              "      <td>NaN</td>\n",
              "      <td>NaN</td>\n",
              "      <td>12204.7</td>\n",
              "      <td>NaN</td>\n",
              "    </tr>\n",
              "    <tr>\n",
              "      <th>269</th>\n",
              "      <td>3/25/2016 16:52</td>\n",
              "      <td>3/25/2016 22:22</td>\n",
              "      <td>Business</td>\n",
              "      <td>Latta</td>\n",
              "      <td>Jacksonville</td>\n",
              "      <td>310.3</td>\n",
              "      <td>Customer Visit</td>\n",
              "    </tr>\n",
              "    <tr>\n",
              "      <th>270</th>\n",
              "      <td>3/25/2016 22:54</td>\n",
              "      <td>3/26/2016 1:39</td>\n",
              "      <td>Business</td>\n",
              "      <td>Jacksonville</td>\n",
              "      <td>Kissimmee</td>\n",
              "      <td>201.0</td>\n",
              "      <td>Meeting</td>\n",
              "    </tr>\n",
              "    <tr>\n",
              "      <th>881</th>\n",
              "      <td>10/30/2016 15:22</td>\n",
              "      <td>10/30/2016 18:23</td>\n",
              "      <td>Business</td>\n",
              "      <td>Asheville</td>\n",
              "      <td>Mebane</td>\n",
              "      <td>195.9</td>\n",
              "      <td>NaN</td>\n",
              "    </tr>\n",
              "    <tr>\n",
              "      <th>776</th>\n",
              "      <td>9/27/2016 21:01</td>\n",
              "      <td>9/28/2016 2:37</td>\n",
              "      <td>Business</td>\n",
              "      <td>Unknown Location</td>\n",
              "      <td>Unknown Location</td>\n",
              "      <td>195.6</td>\n",
              "      <td>NaN</td>\n",
              "    </tr>\n",
              "  </tbody>\n",
              "</table>\n",
              "</div>"
            ],
            "text/plain": [
              "           START_DATE*         END_DATE*  ...   MILES*        PURPOSE*\n",
              "1155            Totals               NaN  ...  12204.7             NaN\n",
              "269    3/25/2016 16:52   3/25/2016 22:22  ...    310.3  Customer Visit\n",
              "270    3/25/2016 22:54    3/26/2016 1:39  ...    201.0         Meeting\n",
              "881   10/30/2016 15:22  10/30/2016 18:23  ...    195.9             NaN\n",
              "776    9/27/2016 21:01    9/28/2016 2:37  ...    195.6             NaN\n",
              "\n",
              "[5 rows x 7 columns]"
            ]
          },
          "metadata": {
            "tags": []
          },
          "execution_count": 22
        }
      ]
    },
    {
      "cell_type": "code",
      "metadata": {
        "colab": {
          "base_uri": "https://localhost:8080/"
        },
        "id": "rbfexUN9lQS6",
        "outputId": "2370355e-5ed3-4d22-ac23-c7532e85c256"
      },
      "source": [
        "#convert end date to datetime object\n",
        "\n",
        "uber_data['END_DATE*']=pd.to_datetime(uber_data['END_DATE*'],format = '%m/%d/%Y %H:%M',errors ='coerce')\n",
        "\n",
        "uber_data['END_DATE*']"
      ],
      "execution_count": 23,
      "outputs": [
        {
          "output_type": "execute_result",
          "data": {
            "text/plain": [
              "0      2016-01-01 21:17:00\n",
              "1      2016-01-02 01:37:00\n",
              "2      2016-01-02 20:38:00\n",
              "3      2016-01-05 17:45:00\n",
              "4      2016-01-06 15:49:00\n",
              "               ...        \n",
              "1151   2016-12-31 13:42:00\n",
              "1152   2016-12-31 15:38:00\n",
              "1153   2016-12-31 21:50:00\n",
              "1154   2016-12-31 23:51:00\n",
              "1155                   NaT\n",
              "Name: END_DATE*, Length: 1156, dtype: datetime64[ns]"
            ]
          },
          "metadata": {
            "tags": []
          },
          "execution_count": 23
        }
      ]
    },
    {
      "cell_type": "code",
      "metadata": {
        "scrolled": true,
        "colab": {
          "base_uri": "https://localhost:8080/"
        },
        "id": "R3TbeZU5lQS7",
        "outputId": "ca958329-b060-496f-e1c3-515936d6b473"
      },
      "source": [
        "#convert start date to datetime object\n",
        "\n",
        "uber_data['START_DATE*']=pd.to_datetime(uber_data['START_DATE*'],format = '%m/%d/%Y %H:%M',errors ='coerce')\n",
        "\n",
        "uber_data['START_DATE*']"
      ],
      "execution_count": 24,
      "outputs": [
        {
          "output_type": "execute_result",
          "data": {
            "text/plain": [
              "0      2016-01-01 21:11:00\n",
              "1      2016-01-02 01:25:00\n",
              "2      2016-01-02 20:25:00\n",
              "3      2016-01-05 17:31:00\n",
              "4      2016-01-06 14:42:00\n",
              "               ...        \n",
              "1151   2016-12-31 13:24:00\n",
              "1152   2016-12-31 15:03:00\n",
              "1153   2016-12-31 21:32:00\n",
              "1154   2016-12-31 22:08:00\n",
              "1155                   NaT\n",
              "Name: START_DATE*, Length: 1156, dtype: datetime64[ns]"
            ]
          },
          "metadata": {
            "tags": []
          },
          "execution_count": 24
        }
      ]
    },
    {
      "cell_type": "code",
      "metadata": {
        "scrolled": true,
        "colab": {
          "base_uri": "https://localhost:8080/",
          "height": 402
        },
        "id": "q1tijIWmlQS8",
        "outputId": "df5be3a8-4e1c-45fd-d817-b34be220c327"
      },
      "source": [
        "uber_data"
      ],
      "execution_count": 25,
      "outputs": [
        {
          "output_type": "execute_result",
          "data": {
            "text/html": [
              "<div>\n",
              "<style scoped>\n",
              "    .dataframe tbody tr th:only-of-type {\n",
              "        vertical-align: middle;\n",
              "    }\n",
              "\n",
              "    .dataframe tbody tr th {\n",
              "        vertical-align: top;\n",
              "    }\n",
              "\n",
              "    .dataframe thead th {\n",
              "        text-align: right;\n",
              "    }\n",
              "</style>\n",
              "<table border=\"1\" class=\"dataframe\">\n",
              "  <thead>\n",
              "    <tr style=\"text-align: right;\">\n",
              "      <th></th>\n",
              "      <th>START_DATE*</th>\n",
              "      <th>END_DATE*</th>\n",
              "      <th>CATEGORY*</th>\n",
              "      <th>START*</th>\n",
              "      <th>STOP*</th>\n",
              "      <th>MILES*</th>\n",
              "      <th>PURPOSE*</th>\n",
              "    </tr>\n",
              "  </thead>\n",
              "  <tbody>\n",
              "    <tr>\n",
              "      <th>0</th>\n",
              "      <td>2016-01-01 21:11:00</td>\n",
              "      <td>2016-01-01 21:17:00</td>\n",
              "      <td>Business</td>\n",
              "      <td>Fort Pierce</td>\n",
              "      <td>Fort Pierce</td>\n",
              "      <td>5.1</td>\n",
              "      <td>Meal/Entertain</td>\n",
              "    </tr>\n",
              "    <tr>\n",
              "      <th>1</th>\n",
              "      <td>2016-01-02 01:25:00</td>\n",
              "      <td>2016-01-02 01:37:00</td>\n",
              "      <td>Business</td>\n",
              "      <td>Fort Pierce</td>\n",
              "      <td>Fort Pierce</td>\n",
              "      <td>5.0</td>\n",
              "      <td>NaN</td>\n",
              "    </tr>\n",
              "    <tr>\n",
              "      <th>2</th>\n",
              "      <td>2016-01-02 20:25:00</td>\n",
              "      <td>2016-01-02 20:38:00</td>\n",
              "      <td>Business</td>\n",
              "      <td>Fort Pierce</td>\n",
              "      <td>Fort Pierce</td>\n",
              "      <td>4.8</td>\n",
              "      <td>Errand/Supplies</td>\n",
              "    </tr>\n",
              "    <tr>\n",
              "      <th>3</th>\n",
              "      <td>2016-01-05 17:31:00</td>\n",
              "      <td>2016-01-05 17:45:00</td>\n",
              "      <td>Business</td>\n",
              "      <td>Fort Pierce</td>\n",
              "      <td>Fort Pierce</td>\n",
              "      <td>4.7</td>\n",
              "      <td>Meeting</td>\n",
              "    </tr>\n",
              "    <tr>\n",
              "      <th>4</th>\n",
              "      <td>2016-01-06 14:42:00</td>\n",
              "      <td>2016-01-06 15:49:00</td>\n",
              "      <td>Business</td>\n",
              "      <td>Fort Pierce</td>\n",
              "      <td>West Palm Beach</td>\n",
              "      <td>63.7</td>\n",
              "      <td>Customer Visit</td>\n",
              "    </tr>\n",
              "    <tr>\n",
              "      <th>...</th>\n",
              "      <td>...</td>\n",
              "      <td>...</td>\n",
              "      <td>...</td>\n",
              "      <td>...</td>\n",
              "      <td>...</td>\n",
              "      <td>...</td>\n",
              "      <td>...</td>\n",
              "    </tr>\n",
              "    <tr>\n",
              "      <th>1151</th>\n",
              "      <td>2016-12-31 13:24:00</td>\n",
              "      <td>2016-12-31 13:42:00</td>\n",
              "      <td>Business</td>\n",
              "      <td>Kar?chi</td>\n",
              "      <td>Unknown Location</td>\n",
              "      <td>3.9</td>\n",
              "      <td>Temporary Site</td>\n",
              "    </tr>\n",
              "    <tr>\n",
              "      <th>1152</th>\n",
              "      <td>2016-12-31 15:03:00</td>\n",
              "      <td>2016-12-31 15:38:00</td>\n",
              "      <td>Business</td>\n",
              "      <td>Unknown Location</td>\n",
              "      <td>Unknown Location</td>\n",
              "      <td>16.2</td>\n",
              "      <td>Meeting</td>\n",
              "    </tr>\n",
              "    <tr>\n",
              "      <th>1153</th>\n",
              "      <td>2016-12-31 21:32:00</td>\n",
              "      <td>2016-12-31 21:50:00</td>\n",
              "      <td>Business</td>\n",
              "      <td>Katunayake</td>\n",
              "      <td>Gampaha</td>\n",
              "      <td>6.4</td>\n",
              "      <td>Temporary Site</td>\n",
              "    </tr>\n",
              "    <tr>\n",
              "      <th>1154</th>\n",
              "      <td>2016-12-31 22:08:00</td>\n",
              "      <td>2016-12-31 23:51:00</td>\n",
              "      <td>Business</td>\n",
              "      <td>Gampaha</td>\n",
              "      <td>Ilukwatta</td>\n",
              "      <td>48.2</td>\n",
              "      <td>Temporary Site</td>\n",
              "    </tr>\n",
              "    <tr>\n",
              "      <th>1155</th>\n",
              "      <td>NaT</td>\n",
              "      <td>NaT</td>\n",
              "      <td>NaN</td>\n",
              "      <td>NaN</td>\n",
              "      <td>NaN</td>\n",
              "      <td>12204.7</td>\n",
              "      <td>NaN</td>\n",
              "    </tr>\n",
              "  </tbody>\n",
              "</table>\n",
              "<p>1156 rows × 7 columns</p>\n",
              "</div>"
            ],
            "text/plain": [
              "             START_DATE*           END_DATE*  ...   MILES*         PURPOSE*\n",
              "0    2016-01-01 21:11:00 2016-01-01 21:17:00  ...      5.1   Meal/Entertain\n",
              "1    2016-01-02 01:25:00 2016-01-02 01:37:00  ...      5.0              NaN\n",
              "2    2016-01-02 20:25:00 2016-01-02 20:38:00  ...      4.8  Errand/Supplies\n",
              "3    2016-01-05 17:31:00 2016-01-05 17:45:00  ...      4.7          Meeting\n",
              "4    2016-01-06 14:42:00 2016-01-06 15:49:00  ...     63.7   Customer Visit\n",
              "...                  ...                 ...  ...      ...              ...\n",
              "1151 2016-12-31 13:24:00 2016-12-31 13:42:00  ...      3.9   Temporary Site\n",
              "1152 2016-12-31 15:03:00 2016-12-31 15:38:00  ...     16.2          Meeting\n",
              "1153 2016-12-31 21:32:00 2016-12-31 21:50:00  ...      6.4   Temporary Site\n",
              "1154 2016-12-31 22:08:00 2016-12-31 23:51:00  ...     48.2   Temporary Site\n",
              "1155                 NaT                 NaT  ...  12204.7              NaN\n",
              "\n",
              "[1156 rows x 7 columns]"
            ]
          },
          "metadata": {
            "tags": []
          },
          "execution_count": 25
        }
      ]
    },
    {
      "cell_type": "code",
      "metadata": {
        "colab": {
          "base_uri": "https://localhost:8080/"
        },
        "id": "r0TmJn0KlQS8",
        "outputId": "793f4ea1-3e37-4dd6-efee-b770c47d23bb"
      },
      "source": [
        "ride_time= uber_data['END_DATE*'] -uber_data['START_DATE*']\n",
        "ride_time.head()"
      ],
      "execution_count": 26,
      "outputs": [
        {
          "output_type": "execute_result",
          "data": {
            "text/plain": [
              "0   0 days 00:06:00\n",
              "1   0 days 00:12:00\n",
              "2   0 days 00:13:00\n",
              "3   0 days 00:14:00\n",
              "4   0 days 01:07:00\n",
              "dtype: timedelta64[ns]"
            ]
          },
          "metadata": {
            "tags": []
          },
          "execution_count": 26
        }
      ]
    },
    {
      "cell_type": "code",
      "metadata": {
        "scrolled": true,
        "colab": {
          "base_uri": "https://localhost:8080/"
        },
        "id": "-SBEbdAGlQS9",
        "outputId": "affd8f82-df80-4f7e-972a-dceb0fcd359e"
      },
      "source": [
        "\n",
        "uber_data['END_DATE*'].dt.strftime('%H:%M')"
      ],
      "execution_count": 27,
      "outputs": [
        {
          "output_type": "execute_result",
          "data": {
            "text/plain": [
              "0       21:17\n",
              "1       01:37\n",
              "2       20:38\n",
              "3       17:45\n",
              "4       15:49\n",
              "        ...  \n",
              "1151    13:42\n",
              "1152    15:38\n",
              "1153    21:50\n",
              "1154    23:51\n",
              "1155      NaN\n",
              "Name: END_DATE*, Length: 1156, dtype: object"
            ]
          },
          "metadata": {
            "tags": []
          },
          "execution_count": 27
        }
      ]
    },
    {
      "cell_type": "code",
      "metadata": {
        "scrolled": true,
        "id": "7yPUbYb0lQS-"
      },
      "source": [
        "#Calculate the time for the rides and convert it to numbers(minutes)\n",
        "\n",
        "uber_data['ride_time']=uber_data['END_DATE*'].sub(uber_data['START_DATE*']).dt.total_seconds().div(60)"
      ],
      "execution_count": 28,
      "outputs": []
    },
    {
      "cell_type": "code",
      "metadata": {
        "colab": {
          "base_uri": "https://localhost:8080/",
          "height": 402
        },
        "id": "kEdWau29lQS_",
        "outputId": "43c10869-7ff0-4267-d110-1750439f3b90"
      },
      "source": [
        "uber_data"
      ],
      "execution_count": 29,
      "outputs": [
        {
          "output_type": "execute_result",
          "data": {
            "text/html": [
              "<div>\n",
              "<style scoped>\n",
              "    .dataframe tbody tr th:only-of-type {\n",
              "        vertical-align: middle;\n",
              "    }\n",
              "\n",
              "    .dataframe tbody tr th {\n",
              "        vertical-align: top;\n",
              "    }\n",
              "\n",
              "    .dataframe thead th {\n",
              "        text-align: right;\n",
              "    }\n",
              "</style>\n",
              "<table border=\"1\" class=\"dataframe\">\n",
              "  <thead>\n",
              "    <tr style=\"text-align: right;\">\n",
              "      <th></th>\n",
              "      <th>START_DATE*</th>\n",
              "      <th>END_DATE*</th>\n",
              "      <th>CATEGORY*</th>\n",
              "      <th>START*</th>\n",
              "      <th>STOP*</th>\n",
              "      <th>MILES*</th>\n",
              "      <th>PURPOSE*</th>\n",
              "      <th>ride_time</th>\n",
              "    </tr>\n",
              "  </thead>\n",
              "  <tbody>\n",
              "    <tr>\n",
              "      <th>0</th>\n",
              "      <td>2016-01-01 21:11:00</td>\n",
              "      <td>2016-01-01 21:17:00</td>\n",
              "      <td>Business</td>\n",
              "      <td>Fort Pierce</td>\n",
              "      <td>Fort Pierce</td>\n",
              "      <td>5.1</td>\n",
              "      <td>Meal/Entertain</td>\n",
              "      <td>6.0</td>\n",
              "    </tr>\n",
              "    <tr>\n",
              "      <th>1</th>\n",
              "      <td>2016-01-02 01:25:00</td>\n",
              "      <td>2016-01-02 01:37:00</td>\n",
              "      <td>Business</td>\n",
              "      <td>Fort Pierce</td>\n",
              "      <td>Fort Pierce</td>\n",
              "      <td>5.0</td>\n",
              "      <td>NaN</td>\n",
              "      <td>12.0</td>\n",
              "    </tr>\n",
              "    <tr>\n",
              "      <th>2</th>\n",
              "      <td>2016-01-02 20:25:00</td>\n",
              "      <td>2016-01-02 20:38:00</td>\n",
              "      <td>Business</td>\n",
              "      <td>Fort Pierce</td>\n",
              "      <td>Fort Pierce</td>\n",
              "      <td>4.8</td>\n",
              "      <td>Errand/Supplies</td>\n",
              "      <td>13.0</td>\n",
              "    </tr>\n",
              "    <tr>\n",
              "      <th>3</th>\n",
              "      <td>2016-01-05 17:31:00</td>\n",
              "      <td>2016-01-05 17:45:00</td>\n",
              "      <td>Business</td>\n",
              "      <td>Fort Pierce</td>\n",
              "      <td>Fort Pierce</td>\n",
              "      <td>4.7</td>\n",
              "      <td>Meeting</td>\n",
              "      <td>14.0</td>\n",
              "    </tr>\n",
              "    <tr>\n",
              "      <th>4</th>\n",
              "      <td>2016-01-06 14:42:00</td>\n",
              "      <td>2016-01-06 15:49:00</td>\n",
              "      <td>Business</td>\n",
              "      <td>Fort Pierce</td>\n",
              "      <td>West Palm Beach</td>\n",
              "      <td>63.7</td>\n",
              "      <td>Customer Visit</td>\n",
              "      <td>67.0</td>\n",
              "    </tr>\n",
              "    <tr>\n",
              "      <th>...</th>\n",
              "      <td>...</td>\n",
              "      <td>...</td>\n",
              "      <td>...</td>\n",
              "      <td>...</td>\n",
              "      <td>...</td>\n",
              "      <td>...</td>\n",
              "      <td>...</td>\n",
              "      <td>...</td>\n",
              "    </tr>\n",
              "    <tr>\n",
              "      <th>1151</th>\n",
              "      <td>2016-12-31 13:24:00</td>\n",
              "      <td>2016-12-31 13:42:00</td>\n",
              "      <td>Business</td>\n",
              "      <td>Kar?chi</td>\n",
              "      <td>Unknown Location</td>\n",
              "      <td>3.9</td>\n",
              "      <td>Temporary Site</td>\n",
              "      <td>18.0</td>\n",
              "    </tr>\n",
              "    <tr>\n",
              "      <th>1152</th>\n",
              "      <td>2016-12-31 15:03:00</td>\n",
              "      <td>2016-12-31 15:38:00</td>\n",
              "      <td>Business</td>\n",
              "      <td>Unknown Location</td>\n",
              "      <td>Unknown Location</td>\n",
              "      <td>16.2</td>\n",
              "      <td>Meeting</td>\n",
              "      <td>35.0</td>\n",
              "    </tr>\n",
              "    <tr>\n",
              "      <th>1153</th>\n",
              "      <td>2016-12-31 21:32:00</td>\n",
              "      <td>2016-12-31 21:50:00</td>\n",
              "      <td>Business</td>\n",
              "      <td>Katunayake</td>\n",
              "      <td>Gampaha</td>\n",
              "      <td>6.4</td>\n",
              "      <td>Temporary Site</td>\n",
              "      <td>18.0</td>\n",
              "    </tr>\n",
              "    <tr>\n",
              "      <th>1154</th>\n",
              "      <td>2016-12-31 22:08:00</td>\n",
              "      <td>2016-12-31 23:51:00</td>\n",
              "      <td>Business</td>\n",
              "      <td>Gampaha</td>\n",
              "      <td>Ilukwatta</td>\n",
              "      <td>48.2</td>\n",
              "      <td>Temporary Site</td>\n",
              "      <td>103.0</td>\n",
              "    </tr>\n",
              "    <tr>\n",
              "      <th>1155</th>\n",
              "      <td>NaT</td>\n",
              "      <td>NaT</td>\n",
              "      <td>NaN</td>\n",
              "      <td>NaN</td>\n",
              "      <td>NaN</td>\n",
              "      <td>12204.7</td>\n",
              "      <td>NaN</td>\n",
              "      <td>NaN</td>\n",
              "    </tr>\n",
              "  </tbody>\n",
              "</table>\n",
              "<p>1156 rows × 8 columns</p>\n",
              "</div>"
            ],
            "text/plain": [
              "             START_DATE*           END_DATE*  ...         PURPOSE* ride_time\n",
              "0    2016-01-01 21:11:00 2016-01-01 21:17:00  ...   Meal/Entertain       6.0\n",
              "1    2016-01-02 01:25:00 2016-01-02 01:37:00  ...              NaN      12.0\n",
              "2    2016-01-02 20:25:00 2016-01-02 20:38:00  ...  Errand/Supplies      13.0\n",
              "3    2016-01-05 17:31:00 2016-01-05 17:45:00  ...          Meeting      14.0\n",
              "4    2016-01-06 14:42:00 2016-01-06 15:49:00  ...   Customer Visit      67.0\n",
              "...                  ...                 ...  ...              ...       ...\n",
              "1151 2016-12-31 13:24:00 2016-12-31 13:42:00  ...   Temporary Site      18.0\n",
              "1152 2016-12-31 15:03:00 2016-12-31 15:38:00  ...          Meeting      35.0\n",
              "1153 2016-12-31 21:32:00 2016-12-31 21:50:00  ...   Temporary Site      18.0\n",
              "1154 2016-12-31 22:08:00 2016-12-31 23:51:00  ...   Temporary Site     103.0\n",
              "1155                 NaT                 NaT  ...              NaN       NaN\n",
              "\n",
              "[1156 rows x 8 columns]"
            ]
          },
          "metadata": {
            "tags": []
          },
          "execution_count": 29
        }
      ]
    },
    {
      "cell_type": "code",
      "metadata": {
        "colab": {
          "base_uri": "https://localhost:8080/"
        },
        "id": "HeOShxw8lQS_",
        "outputId": "1e65e237-df43-4dfe-8f27-cb6c2f7c52d2"
      },
      "source": [
        "\n",
        "uber_data['Month']=uber_data['START_DATE*'].dt.strftime('%b')\n",
        "uber_data['Month']"
      ],
      "execution_count": 30,
      "outputs": [
        {
          "output_type": "execute_result",
          "data": {
            "text/plain": [
              "0       Jan\n",
              "1       Jan\n",
              "2       Jan\n",
              "3       Jan\n",
              "4       Jan\n",
              "       ... \n",
              "1151    Dec\n",
              "1152    Dec\n",
              "1153    Dec\n",
              "1154    Dec\n",
              "1155    NaN\n",
              "Name: Month, Length: 1156, dtype: object"
            ]
          },
          "metadata": {
            "tags": []
          },
          "execution_count": 30
        }
      ]
    },
    {
      "cell_type": "code",
      "metadata": {
        "scrolled": true,
        "colab": {
          "base_uri": "https://localhost:8080/",
          "height": 432
        },
        "id": "K7nSfthmlQTA",
        "outputId": "d3910b54-8682-4bd8-c976-8ee0428a717c"
      },
      "source": [
        "#Plot, the miles and durations of trips month wise\n",
        "\n",
        "pd.pivot_table(uber_data, index=['Month'])"
      ],
      "execution_count": 31,
      "outputs": [
        {
          "output_type": "execute_result",
          "data": {
            "text/html": [
              "<div>\n",
              "<style scoped>\n",
              "    .dataframe tbody tr th:only-of-type {\n",
              "        vertical-align: middle;\n",
              "    }\n",
              "\n",
              "    .dataframe tbody tr th {\n",
              "        vertical-align: top;\n",
              "    }\n",
              "\n",
              "    .dataframe thead th {\n",
              "        text-align: right;\n",
              "    }\n",
              "</style>\n",
              "<table border=\"1\" class=\"dataframe\">\n",
              "  <thead>\n",
              "    <tr style=\"text-align: right;\">\n",
              "      <th></th>\n",
              "      <th>MILES*</th>\n",
              "      <th>ride_time</th>\n",
              "    </tr>\n",
              "    <tr>\n",
              "      <th>Month</th>\n",
              "      <th></th>\n",
              "      <th></th>\n",
              "    </tr>\n",
              "  </thead>\n",
              "  <tbody>\n",
              "    <tr>\n",
              "      <th>Apr</th>\n",
              "      <td>20.611111</td>\n",
              "      <td>31.907407</td>\n",
              "    </tr>\n",
              "    <tr>\n",
              "      <th>Aug</th>\n",
              "      <td>10.041353</td>\n",
              "      <td>24.984962</td>\n",
              "    </tr>\n",
              "    <tr>\n",
              "      <th>Dec</th>\n",
              "      <td>6.721233</td>\n",
              "      <td>21.369863</td>\n",
              "    </tr>\n",
              "    <tr>\n",
              "      <th>Feb</th>\n",
              "      <td>7.897391</td>\n",
              "      <td>19.695652</td>\n",
              "    </tr>\n",
              "    <tr>\n",
              "      <th>Jan</th>\n",
              "      <td>8.408197</td>\n",
              "      <td>18.295082</td>\n",
              "    </tr>\n",
              "    <tr>\n",
              "      <th>Jul</th>\n",
              "      <td>10.933929</td>\n",
              "      <td>21.589286</td>\n",
              "    </tr>\n",
              "    <tr>\n",
              "      <th>Jun</th>\n",
              "      <td>7.803704</td>\n",
              "      <td>20.055556</td>\n",
              "    </tr>\n",
              "    <tr>\n",
              "      <th>Mar</th>\n",
              "      <td>14.990265</td>\n",
              "      <td>25.743363</td>\n",
              "    </tr>\n",
              "    <tr>\n",
              "      <th>May</th>\n",
              "      <td>7.424490</td>\n",
              "      <td>14.612245</td>\n",
              "    </tr>\n",
              "    <tr>\n",
              "      <th>Nov</th>\n",
              "      <td>6.695902</td>\n",
              "      <td>17.680328</td>\n",
              "    </tr>\n",
              "    <tr>\n",
              "      <th>Oct</th>\n",
              "      <td>17.075472</td>\n",
              "      <td>30.858491</td>\n",
              "    </tr>\n",
              "    <tr>\n",
              "      <th>Sep</th>\n",
              "      <td>16.716667</td>\n",
              "      <td>46.166667</td>\n",
              "    </tr>\n",
              "  </tbody>\n",
              "</table>\n",
              "</div>"
            ],
            "text/plain": [
              "          MILES*  ride_time\n",
              "Month                      \n",
              "Apr    20.611111  31.907407\n",
              "Aug    10.041353  24.984962\n",
              "Dec     6.721233  21.369863\n",
              "Feb     7.897391  19.695652\n",
              "Jan     8.408197  18.295082\n",
              "Jul    10.933929  21.589286\n",
              "Jun     7.803704  20.055556\n",
              "Mar    14.990265  25.743363\n",
              "May     7.424490  14.612245\n",
              "Nov     6.695902  17.680328\n",
              "Oct    17.075472  30.858491\n",
              "Sep    16.716667  46.166667"
            ]
          },
          "metadata": {
            "tags": []
          },
          "execution_count": 31
        }
      ]
    },
    {
      "cell_type": "code",
      "metadata": {
        "colab": {
          "base_uri": "https://localhost:8080/",
          "height": 308
        },
        "id": "Z8lO0k1blQTB",
        "outputId": "20039202-dcfe-438b-ecf4-902b1beb6ddf"
      },
      "source": [
        "#Plot, the miles and durations of trips month wise\n",
        "\n",
        "pd.pivot_table(uber_data, index=['Month']).plot(kind='bar')"
      ],
      "execution_count": 32,
      "outputs": [
        {
          "output_type": "execute_result",
          "data": {
            "text/plain": [
              "<matplotlib.axes._subplots.AxesSubplot at 0x7f7584ac4310>"
            ]
          },
          "metadata": {
            "tags": []
          },
          "execution_count": 32
        },
        {
          "output_type": "display_data",
          "data": {
            "image/png": "[encoded data removed]",
            "text/plain": [
              "<Figure size 432x288 with 1 Axes>"
            ]
          },
          "metadata": {
            "tags": [],
            "needs_background": "light"
          }
        }
      ]
    },
    {
      "cell_type": "code",
      "metadata": {
        "colab": {
          "base_uri": "https://localhost:8080/",
          "height": 297
        },
        "id": "d2RpZwF1lQTC",
        "outputId": "cec10360-03fe-43e2-f25d-a89b1ca9c474"
      },
      "source": [
        "sns.barplot(data=uber_data, x='Month',y='ride_time')"
      ],
      "execution_count": 33,
      "outputs": [
        {
          "output_type": "execute_result",
          "data": {
            "text/plain": [
              "<matplotlib.axes._subplots.AxesSubplot at 0x7f75849f7150>"
            ]
          },
          "metadata": {
            "tags": []
          },
          "execution_count": 33
        },
        {
          "output_type": "display_data",
          "data": {
            "image/png": "[encoded data removed]",
            "text/plain": [
              "<Figure size 432x288 with 1 Axes>"
            ]
          },
          "metadata": {
            "tags": [],
            "needs_background": "light"
          }
        }
      ]
    },
    {
      "cell_type": "code",
      "metadata": {
        "colab": {
          "base_uri": "https://localhost:8080/",
          "height": 297
        },
        "id": "xKuOk4Q1lQTD",
        "outputId": "123c7542-3837-4344-e5fa-3a03f2fb333b"
      },
      "source": [
        "sns.barplot(data=uber_data, x='Month',y='MILES*')"
      ],
      "execution_count": 34,
      "outputs": [
        {
          "output_type": "execute_result",
          "data": {
            "text/plain": [
              "<matplotlib.axes._subplots.AxesSubplot at 0x7f75849307d0>"
            ]
          },
          "metadata": {
            "tags": []
          },
          "execution_count": 34
        },
        {
          "output_type": "display_data",
          "data": {
            "image/png": "[encoded data removed]",
            "text/plain": [
              "<Figure size 432x288 with 1 Axes>"
            ]
          },
          "metadata": {
            "tags": [],
            "needs_background": "light"
          }
        }
      ]
    },
    {
      "cell_type": "code",
      "metadata": {
        "colab": {
          "base_uri": "https://localhost:8080/"
        },
        "id": "0vnhBLMilQTD",
        "outputId": "3aa21369-17c5-4864-d8d5-1d5d6790b355"
      },
      "source": [
        "#highest value of miles for the driver on month Jan\n",
        "\n",
        "uber_data[['MILES*','Month']].head(61).max()"
      ],
      "execution_count": 35,
      "outputs": [
        {
          "output_type": "execute_result",
          "data": {
            "text/plain": [
              "MILES*    63.7\n",
              "Month      Jan\n",
              "dtype: object"
            ]
          },
          "metadata": {
            "tags": []
          },
          "execution_count": 35
        }
      ]
    },
    {
      "cell_type": "code",
      "metadata": {
        "colab": {
          "base_uri": "https://localhost:8080/"
        },
        "id": "orkaXvUylQTE",
        "outputId": "1a38010f-7df5-4003-c4ed-5fc790b04bfb"
      },
      "source": [
        "#highest value of miles for the driver of every month\n",
        "\n",
        "uber_data.groupby(['Month'])['MILES*'].max()"
      ],
      "execution_count": 36,
      "outputs": [
        {
          "output_type": "execute_result",
          "data": {
            "text/plain": [
              "Month\n",
              "Apr    174.2\n",
              "Aug    156.9\n",
              "Dec    103.0\n",
              "Feb     43.7\n",
              "Jan     63.7\n",
              "Jul    195.3\n",
              "Jun     46.9\n",
              "Mar    310.3\n",
              "May     25.6\n",
              "Nov     45.9\n",
              "Oct    195.9\n",
              "Sep    195.6\n",
              "Name: MILES*, dtype: float64"
            ]
          },
          "metadata": {
            "tags": []
          },
          "execution_count": 36
        }
      ]
    },
    {
      "cell_type": "code",
      "metadata": {
        "colab": {
          "base_uri": "https://localhost:8080/"
        },
        "id": "FnGaoLHElQTF",
        "outputId": "f4f16bc2-293a-4785-d9c2-1ef1c6cb0c35"
      },
      "source": [
        "#Sum of miles covered for each month\n",
        "\n",
        "uber_data.groupby(['Month'])['MILES*'].sum()"
      ],
      "execution_count": 37,
      "outputs": [
        {
          "output_type": "execute_result",
          "data": {
            "text/plain": [
              "Month\n",
              "Apr    1113.0\n",
              "Aug    1335.5\n",
              "Dec     981.3\n",
              "Feb     908.2\n",
              "Jan     512.9\n",
              "Jul    1224.6\n",
              "Jun     842.8\n",
              "Mar    1693.9\n",
              "May     363.8\n",
              "Nov     816.9\n",
              "Oct    1810.0\n",
              "Sep     601.8\n",
              "Name: MILES*, dtype: float64"
            ]
          },
          "metadata": {
            "tags": []
          },
          "execution_count": 37
        }
      ]
    },
    {
      "cell_type": "code",
      "metadata": {
        "id": "mERHvByElQTG"
      },
      "source": [
        ""
      ],
      "execution_count": 37,
      "outputs": []
    }
  ]
}