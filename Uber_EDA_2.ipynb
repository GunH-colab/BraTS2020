{
  "nbformat": 4,
  "nbformat_minor": 0,
  "metadata": {
    "kernelspec": {
      "display_name": "Python 3",
      "language": "python",
      "name": "python3"
    },
    "language_info": {
      "codemirror_mode": {
        "name": "ipython",
        "version": 3
      },
      "file_extension": ".py",
      "mimetype": "text/x-python",
      "name": "python",
      "nbconvert_exporter": "python",
      "pygments_lexer": "ipython3",
      "version": "3.8.5"
    },
    "colab": {
      "name": "Uber : EDA 2.ipynb",
      "provenance": []
    }
  },
  "cells": [
    {
      "cell_type": "code",
      "metadata": {
        "id": "7rS05W1Fiyc_"
      },
      "source": [
        "# importing necessary libraries\n",
        "\n",
        "import pandas as pd\n",
        "import matplotlib.pyplot as plt\n",
        "import numpy as np"
      ],
      "execution_count": null,
      "outputs": []
    },
    {
      "cell_type": "code",
      "metadata": {
        "id": "Yrps8ZIliydH"
      },
      "source": [
        "# assigning each dataset to a variable\n",
        "uber_apr_2014 = pd.read_csv(\"datasets/uber-raw-data-apr14.csv\")\n",
        "uber_may_2014 = pd.read_csv(\"datasets/uber-raw-data-may14.csv\")\n",
        "uber_jun_2014 = pd.read_csv(\"datasets/uber-raw-data-jun14.csv\")\n",
        "uber_jul_2014 = pd.read_csv(\"datasets/uber-raw-data-jul14.csv\")\n",
        "uber_aug_2014 = pd.read_csv(\"datasets/uber-raw-data-aug14.csv\")\n",
        "uber_sep_2014 = pd.read_csv(\"datasets/uber-raw-data-sep14.csv\")"
      ],
      "execution_count": null,
      "outputs": []
    },
    {
      "cell_type": "code",
      "metadata": {
        "id": "zJ2z6fz_iydL"
      },
      "source": [
        "# combining uber_apr_to_sep_2014 datasets\n",
        "\n",
        "combined_dataset = uber_apr_to_sep_2014_dataset = pd.concat([uber_apr_2014, uber_may_2014, uber_jun_2014, uber_jul_2014, uber_aug_2014, uber_sep_2014], ignore_index = True)"
      ],
      "execution_count": null,
      "outputs": []
    },
    {
      "cell_type": "code",
      "metadata": {
        "scrolled": false,
        "id": "26smqAzGiydM",
        "outputId": "102edbbe-c22e-445c-a740-b54a960ce8ca"
      },
      "source": [
        "# loading the dataframe\n",
        "combined_dataset"
      ],
      "execution_count": null,
      "outputs": [
        {
          "output_type": "execute_result",
          "data": {
            "text/html": [
              "<div>\n",
              "<style scoped>\n",
              "    .dataframe tbody tr th:only-of-type {\n",
              "        vertical-align: middle;\n",
              "    }\n",
              "\n",
              "    .dataframe tbody tr th {\n",
              "        vertical-align: top;\n",
              "    }\n",
              "\n",
              "    .dataframe thead th {\n",
              "        text-align: right;\n",
              "    }\n",
              "</style>\n",
              "<table border=\"1\" class=\"dataframe\">\n",
              "  <thead>\n",
              "    <tr style=\"text-align: right;\">\n",
              "      <th></th>\n",
              "      <th>Date/Time</th>\n",
              "      <th>Lat</th>\n",
              "      <th>Lon</th>\n",
              "      <th>Base</th>\n",
              "    </tr>\n",
              "  </thead>\n",
              "  <tbody>\n",
              "    <tr>\n",
              "      <th>0</th>\n",
              "      <td>4/1/2014 0:11:00</td>\n",
              "      <td>40.7690</td>\n",
              "      <td>-73.9549</td>\n",
              "      <td>B02512</td>\n",
              "    </tr>\n",
              "    <tr>\n",
              "      <th>1</th>\n",
              "      <td>4/1/2014 0:17:00</td>\n",
              "      <td>40.7267</td>\n",
              "      <td>-74.0345</td>\n",
              "      <td>B02512</td>\n",
              "    </tr>\n",
              "    <tr>\n",
              "      <th>2</th>\n",
              "      <td>4/1/2014 0:21:00</td>\n",
              "      <td>40.7316</td>\n",
              "      <td>-73.9873</td>\n",
              "      <td>B02512</td>\n",
              "    </tr>\n",
              "    <tr>\n",
              "      <th>3</th>\n",
              "      <td>4/1/2014 0:28:00</td>\n",
              "      <td>40.7588</td>\n",
              "      <td>-73.9776</td>\n",
              "      <td>B02512</td>\n",
              "    </tr>\n",
              "    <tr>\n",
              "      <th>4</th>\n",
              "      <td>4/1/2014 0:33:00</td>\n",
              "      <td>40.7594</td>\n",
              "      <td>-73.9722</td>\n",
              "      <td>B02512</td>\n",
              "    </tr>\n",
              "    <tr>\n",
              "      <th>...</th>\n",
              "      <td>...</td>\n",
              "      <td>...</td>\n",
              "      <td>...</td>\n",
              "      <td>...</td>\n",
              "    </tr>\n",
              "    <tr>\n",
              "      <th>4534322</th>\n",
              "      <td>9/30/2014 22:57:00</td>\n",
              "      <td>40.7668</td>\n",
              "      <td>-73.9845</td>\n",
              "      <td>B02764</td>\n",
              "    </tr>\n",
              "    <tr>\n",
              "      <th>4534323</th>\n",
              "      <td>9/30/2014 22:57:00</td>\n",
              "      <td>40.6911</td>\n",
              "      <td>-74.1773</td>\n",
              "      <td>B02764</td>\n",
              "    </tr>\n",
              "    <tr>\n",
              "      <th>4534324</th>\n",
              "      <td>9/30/2014 22:58:00</td>\n",
              "      <td>40.8519</td>\n",
              "      <td>-73.9319</td>\n",
              "      <td>B02764</td>\n",
              "    </tr>\n",
              "    <tr>\n",
              "      <th>4534325</th>\n",
              "      <td>9/30/2014 22:58:00</td>\n",
              "      <td>40.7081</td>\n",
              "      <td>-74.0066</td>\n",
              "      <td>B02764</td>\n",
              "    </tr>\n",
              "    <tr>\n",
              "      <th>4534326</th>\n",
              "      <td>9/30/2014 22:58:00</td>\n",
              "      <td>40.7140</td>\n",
              "      <td>-73.9496</td>\n",
              "      <td>B02764</td>\n",
              "    </tr>\n",
              "  </tbody>\n",
              "</table>\n",
              "<p>4534327 rows × 4 columns</p>\n",
              "</div>"
            ],
            "text/plain": [
              "                  Date/Time      Lat      Lon    Base\n",
              "0          4/1/2014 0:11:00  40.7690 -73.9549  B02512\n",
              "1          4/1/2014 0:17:00  40.7267 -74.0345  B02512\n",
              "2          4/1/2014 0:21:00  40.7316 -73.9873  B02512\n",
              "3          4/1/2014 0:28:00  40.7588 -73.9776  B02512\n",
              "4          4/1/2014 0:33:00  40.7594 -73.9722  B02512\n",
              "...                     ...      ...      ...     ...\n",
              "4534322  9/30/2014 22:57:00  40.7668 -73.9845  B02764\n",
              "4534323  9/30/2014 22:57:00  40.6911 -74.1773  B02764\n",
              "4534324  9/30/2014 22:58:00  40.8519 -73.9319  B02764\n",
              "4534325  9/30/2014 22:58:00  40.7081 -74.0066  B02764\n",
              "4534326  9/30/2014 22:58:00  40.7140 -73.9496  B02764\n",
              "\n",
              "[4534327 rows x 4 columns]"
            ]
          },
          "metadata": {
            "tags": []
          },
          "execution_count": 223
        }
      ]
    },
    {
      "cell_type": "code",
      "metadata": {
        "id": "qAVXCKrXiydR"
      },
      "source": [
        "# converting the \"Date/Time\" column to datetime format\n",
        "# and renaming the column to \"Date_Time\"\n",
        "\n",
        "uber_apr_to_sep_2014_dataset['Date/Time'] = pd.to_datetime(uber_apr_to_sep_2014_dataset['Date/Time'])\n",
        "renamed_df = uber_apr_to_sep_2014_dataset.rename(columns = {\"Date/Time\" : \"Date_Time\"})"
      ],
      "execution_count": null,
      "outputs": []
    },
    {
      "cell_type": "code",
      "metadata": {
        "id": "Vn4N--SAiydT",
        "outputId": "975f1e88-bede-4728-e127-6e94378683fa"
      },
      "source": [
        "# loading the dataframe\n",
        "renamed_df"
      ],
      "execution_count": null,
      "outputs": [
        {
          "output_type": "execute_result",
          "data": {
            "text/html": [
              "<div>\n",
              "<style scoped>\n",
              "    .dataframe tbody tr th:only-of-type {\n",
              "        vertical-align: middle;\n",
              "    }\n",
              "\n",
              "    .dataframe tbody tr th {\n",
              "        vertical-align: top;\n",
              "    }\n",
              "\n",
              "    .dataframe thead th {\n",
              "        text-align: right;\n",
              "    }\n",
              "</style>\n",
              "<table border=\"1\" class=\"dataframe\">\n",
              "  <thead>\n",
              "    <tr style=\"text-align: right;\">\n",
              "      <th></th>\n",
              "      <th>Date_Time</th>\n",
              "      <th>Lat</th>\n",
              "      <th>Lon</th>\n",
              "      <th>Base</th>\n",
              "    </tr>\n",
              "  </thead>\n",
              "  <tbody>\n",
              "    <tr>\n",
              "      <th>0</th>\n",
              "      <td>2014-04-01 00:11:00</td>\n",
              "      <td>40.7690</td>\n",
              "      <td>-73.9549</td>\n",
              "      <td>B02512</td>\n",
              "    </tr>\n",
              "    <tr>\n",
              "      <th>1</th>\n",
              "      <td>2014-04-01 00:17:00</td>\n",
              "      <td>40.7267</td>\n",
              "      <td>-74.0345</td>\n",
              "      <td>B02512</td>\n",
              "    </tr>\n",
              "    <tr>\n",
              "      <th>2</th>\n",
              "      <td>2014-04-01 00:21:00</td>\n",
              "      <td>40.7316</td>\n",
              "      <td>-73.9873</td>\n",
              "      <td>B02512</td>\n",
              "    </tr>\n",
              "    <tr>\n",
              "      <th>3</th>\n",
              "      <td>2014-04-01 00:28:00</td>\n",
              "      <td>40.7588</td>\n",
              "      <td>-73.9776</td>\n",
              "      <td>B02512</td>\n",
              "    </tr>\n",
              "    <tr>\n",
              "      <th>4</th>\n",
              "      <td>2014-04-01 00:33:00</td>\n",
              "      <td>40.7594</td>\n",
              "      <td>-73.9722</td>\n",
              "      <td>B02512</td>\n",
              "    </tr>\n",
              "    <tr>\n",
              "      <th>...</th>\n",
              "      <td>...</td>\n",
              "      <td>...</td>\n",
              "      <td>...</td>\n",
              "      <td>...</td>\n",
              "    </tr>\n",
              "    <tr>\n",
              "      <th>4534322</th>\n",
              "      <td>2014-09-30 22:57:00</td>\n",
              "      <td>40.7668</td>\n",
              "      <td>-73.9845</td>\n",
              "      <td>B02764</td>\n",
              "    </tr>\n",
              "    <tr>\n",
              "      <th>4534323</th>\n",
              "      <td>2014-09-30 22:57:00</td>\n",
              "      <td>40.6911</td>\n",
              "      <td>-74.1773</td>\n",
              "      <td>B02764</td>\n",
              "    </tr>\n",
              "    <tr>\n",
              "      <th>4534324</th>\n",
              "      <td>2014-09-30 22:58:00</td>\n",
              "      <td>40.8519</td>\n",
              "      <td>-73.9319</td>\n",
              "      <td>B02764</td>\n",
              "    </tr>\n",
              "    <tr>\n",
              "      <th>4534325</th>\n",
              "      <td>2014-09-30 22:58:00</td>\n",
              "      <td>40.7081</td>\n",
              "      <td>-74.0066</td>\n",
              "      <td>B02764</td>\n",
              "    </tr>\n",
              "    <tr>\n",
              "      <th>4534326</th>\n",
              "      <td>2014-09-30 22:58:00</td>\n",
              "      <td>40.7140</td>\n",
              "      <td>-73.9496</td>\n",
              "      <td>B02764</td>\n",
              "    </tr>\n",
              "  </tbody>\n",
              "</table>\n",
              "<p>4534327 rows × 4 columns</p>\n",
              "</div>"
            ],
            "text/plain": [
              "                  Date_Time      Lat      Lon    Base\n",
              "0       2014-04-01 00:11:00  40.7690 -73.9549  B02512\n",
              "1       2014-04-01 00:17:00  40.7267 -74.0345  B02512\n",
              "2       2014-04-01 00:21:00  40.7316 -73.9873  B02512\n",
              "3       2014-04-01 00:28:00  40.7588 -73.9776  B02512\n",
              "4       2014-04-01 00:33:00  40.7594 -73.9722  B02512\n",
              "...                     ...      ...      ...     ...\n",
              "4534322 2014-09-30 22:57:00  40.7668 -73.9845  B02764\n",
              "4534323 2014-09-30 22:57:00  40.6911 -74.1773  B02764\n",
              "4534324 2014-09-30 22:58:00  40.8519 -73.9319  B02764\n",
              "4534325 2014-09-30 22:58:00  40.7081 -74.0066  B02764\n",
              "4534326 2014-09-30 22:58:00  40.7140 -73.9496  B02764\n",
              "\n",
              "[4534327 rows x 4 columns]"
            ]
          },
          "metadata": {
            "tags": []
          },
          "execution_count": 225
        }
      ]
    },
    {
      "cell_type": "code",
      "metadata": {
        "id": "YYj3aFQ1iydU",
        "outputId": "7f7cb3b4-8db5-4048-99f0-cc0e67eb3d35"
      },
      "source": [
        "# checking for missing values\n",
        "uber_apr_to_sep_2014_dataset.isnull().sum()"
      ],
      "execution_count": null,
      "outputs": [
        {
          "output_type": "execute_result",
          "data": {
            "text/plain": [
              "Date/Time    0\n",
              "Lat          0\n",
              "Lon          0\n",
              "Base         0\n",
              "dtype: int64"
            ]
          },
          "metadata": {
            "tags": []
          },
          "execution_count": 226
        }
      ]
    },
    {
      "cell_type": "code",
      "metadata": {
        "id": "9ZRirI8QiydV",
        "outputId": "875040ec-2f87-4bd5-def6-a46a4aa8af08"
      },
      "source": [
        "# checking how the data is distributed\n",
        "uber_apr_to_sep_2014_dataset.describe()"
      ],
      "execution_count": null,
      "outputs": [
        {
          "output_type": "execute_result",
          "data": {
            "text/html": [
              "<div>\n",
              "<style scoped>\n",
              "    .dataframe tbody tr th:only-of-type {\n",
              "        vertical-align: middle;\n",
              "    }\n",
              "\n",
              "    .dataframe tbody tr th {\n",
              "        vertical-align: top;\n",
              "    }\n",
              "\n",
              "    .dataframe thead th {\n",
              "        text-align: right;\n",
              "    }\n",
              "</style>\n",
              "<table border=\"1\" class=\"dataframe\">\n",
              "  <thead>\n",
              "    <tr style=\"text-align: right;\">\n",
              "      <th></th>\n",
              "      <th>Lat</th>\n",
              "      <th>Lon</th>\n",
              "    </tr>\n",
              "  </thead>\n",
              "  <tbody>\n",
              "    <tr>\n",
              "      <th>count</th>\n",
              "      <td>4.534327e+06</td>\n",
              "      <td>4.534327e+06</td>\n",
              "    </tr>\n",
              "    <tr>\n",
              "      <th>mean</th>\n",
              "      <td>4.073926e+01</td>\n",
              "      <td>-7.397302e+01</td>\n",
              "    </tr>\n",
              "    <tr>\n",
              "      <th>std</th>\n",
              "      <td>3.994991e-02</td>\n",
              "      <td>5.726670e-02</td>\n",
              "    </tr>\n",
              "    <tr>\n",
              "      <th>min</th>\n",
              "      <td>3.965690e+01</td>\n",
              "      <td>-7.492900e+01</td>\n",
              "    </tr>\n",
              "    <tr>\n",
              "      <th>25%</th>\n",
              "      <td>4.072110e+01</td>\n",
              "      <td>-7.399650e+01</td>\n",
              "    </tr>\n",
              "    <tr>\n",
              "      <th>50%</th>\n",
              "      <td>4.074220e+01</td>\n",
              "      <td>-7.398340e+01</td>\n",
              "    </tr>\n",
              "    <tr>\n",
              "      <th>75%</th>\n",
              "      <td>4.076100e+01</td>\n",
              "      <td>-7.396530e+01</td>\n",
              "    </tr>\n",
              "    <tr>\n",
              "      <th>max</th>\n",
              "      <td>4.211660e+01</td>\n",
              "      <td>-7.206660e+01</td>\n",
              "    </tr>\n",
              "  </tbody>\n",
              "</table>\n",
              "</div>"
            ],
            "text/plain": [
              "                Lat           Lon\n",
              "count  4.534327e+06  4.534327e+06\n",
              "mean   4.073926e+01 -7.397302e+01\n",
              "std    3.994991e-02  5.726670e-02\n",
              "min    3.965690e+01 -7.492900e+01\n",
              "25%    4.072110e+01 -7.399650e+01\n",
              "50%    4.074220e+01 -7.398340e+01\n",
              "75%    4.076100e+01 -7.396530e+01\n",
              "max    4.211660e+01 -7.206660e+01"
            ]
          },
          "metadata": {
            "tags": []
          },
          "execution_count": 227
        }
      ]
    },
    {
      "cell_type": "code",
      "metadata": {
        "id": "l7VFRBEjiydW",
        "outputId": "6b0627ad-bafb-43b8-9031-8c5734bcfeba"
      },
      "source": [
        "# checking the data type of each colmn in the dataframe\n",
        "uber_apr_to_sep_2014_dataset.info()"
      ],
      "execution_count": null,
      "outputs": [
        {
          "output_type": "stream",
          "text": [
            "<class 'pandas.core.frame.DataFrame'>\n",
            "RangeIndex: 4534327 entries, 0 to 4534326\n",
            "Data columns (total 4 columns):\n",
            " #   Column     Dtype         \n",
            "---  ------     -----         \n",
            " 0   Date/Time  datetime64[ns]\n",
            " 1   Lat        float64       \n",
            " 2   Lon        float64       \n",
            " 3   Base       object        \n",
            "dtypes: datetime64[ns](1), float64(2), object(1)\n",
            "memory usage: 138.4+ MB\n"
          ],
          "name": "stdout"
        }
      ]
    },
    {
      "cell_type": "code",
      "metadata": {
        "id": "wnG7fDhJiydX"
      },
      "source": [
        "# Adding usuful colomns\n",
        "\n",
        "renamed_df['Month'] = renamed_df['Date_Time'].dt.month_name()\n",
        "renamed_df['Weekday'] = renamed_df['Date_Time'].dt.day_name()\n",
        "renamed_df['Day'] = renamed_df['Date_Time'].dt.day\n",
        "renamed_df['Hour'] = renamed_df['Date_Time'].dt.hour\n",
        "renamed_df['Minute'] = renamed_df['Date_Time'].dt.minute"
      ],
      "execution_count": null,
      "outputs": []
    },
    {
      "cell_type": "code",
      "metadata": {
        "id": "LrbmsiEtiydY",
        "outputId": "77e959d4-a976-41ef-ba4a-4e79e13b2fd6"
      },
      "source": [
        "# loading the dataframe\n",
        "renamed_df"
      ],
      "execution_count": null,
      "outputs": [
        {
          "output_type": "execute_result",
          "data": {
            "text/html": [
              "<div>\n",
              "<style scoped>\n",
              "    .dataframe tbody tr th:only-of-type {\n",
              "        vertical-align: middle;\n",
              "    }\n",
              "\n",
              "    .dataframe tbody tr th {\n",
              "        vertical-align: top;\n",
              "    }\n",
              "\n",
              "    .dataframe thead th {\n",
              "        text-align: right;\n",
              "    }\n",
              "</style>\n",
              "<table border=\"1\" class=\"dataframe\">\n",
              "  <thead>\n",
              "    <tr style=\"text-align: right;\">\n",
              "      <th></th>\n",
              "      <th>Date_Time</th>\n",
              "      <th>Lat</th>\n",
              "      <th>Lon</th>\n",
              "      <th>Base</th>\n",
              "      <th>Month</th>\n",
              "      <th>Weekday</th>\n",
              "      <th>Day</th>\n",
              "      <th>Hour</th>\n",
              "      <th>Minute</th>\n",
              "    </tr>\n",
              "  </thead>\n",
              "  <tbody>\n",
              "    <tr>\n",
              "      <th>0</th>\n",
              "      <td>2014-04-01 00:11:00</td>\n",
              "      <td>40.7690</td>\n",
              "      <td>-73.9549</td>\n",
              "      <td>B02512</td>\n",
              "      <td>April</td>\n",
              "      <td>Tuesday</td>\n",
              "      <td>1</td>\n",
              "      <td>0</td>\n",
              "      <td>11</td>\n",
              "    </tr>\n",
              "    <tr>\n",
              "      <th>1</th>\n",
              "      <td>2014-04-01 00:17:00</td>\n",
              "      <td>40.7267</td>\n",
              "      <td>-74.0345</td>\n",
              "      <td>B02512</td>\n",
              "      <td>April</td>\n",
              "      <td>Tuesday</td>\n",
              "      <td>1</td>\n",
              "      <td>0</td>\n",
              "      <td>17</td>\n",
              "    </tr>\n",
              "    <tr>\n",
              "      <th>2</th>\n",
              "      <td>2014-04-01 00:21:00</td>\n",
              "      <td>40.7316</td>\n",
              "      <td>-73.9873</td>\n",
              "      <td>B02512</td>\n",
              "      <td>April</td>\n",
              "      <td>Tuesday</td>\n",
              "      <td>1</td>\n",
              "      <td>0</td>\n",
              "      <td>21</td>\n",
              "    </tr>\n",
              "    <tr>\n",
              "      <th>3</th>\n",
              "      <td>2014-04-01 00:28:00</td>\n",
              "      <td>40.7588</td>\n",
              "      <td>-73.9776</td>\n",
              "      <td>B02512</td>\n",
              "      <td>April</td>\n",
              "      <td>Tuesday</td>\n",
              "      <td>1</td>\n",
              "      <td>0</td>\n",
              "      <td>28</td>\n",
              "    </tr>\n",
              "    <tr>\n",
              "      <th>4</th>\n",
              "      <td>2014-04-01 00:33:00</td>\n",
              "      <td>40.7594</td>\n",
              "      <td>-73.9722</td>\n",
              "      <td>B02512</td>\n",
              "      <td>April</td>\n",
              "      <td>Tuesday</td>\n",
              "      <td>1</td>\n",
              "      <td>0</td>\n",
              "      <td>33</td>\n",
              "    </tr>\n",
              "    <tr>\n",
              "      <th>...</th>\n",
              "      <td>...</td>\n",
              "      <td>...</td>\n",
              "      <td>...</td>\n",
              "      <td>...</td>\n",
              "      <td>...</td>\n",
              "      <td>...</td>\n",
              "      <td>...</td>\n",
              "      <td>...</td>\n",
              "      <td>...</td>\n",
              "    </tr>\n",
              "    <tr>\n",
              "      <th>4534322</th>\n",
              "      <td>2014-09-30 22:57:00</td>\n",
              "      <td>40.7668</td>\n",
              "      <td>-73.9845</td>\n",
              "      <td>B02764</td>\n",
              "      <td>September</td>\n",
              "      <td>Tuesday</td>\n",
              "      <td>30</td>\n",
              "      <td>22</td>\n",
              "      <td>57</td>\n",
              "    </tr>\n",
              "    <tr>\n",
              "      <th>4534323</th>\n",
              "      <td>2014-09-30 22:57:00</td>\n",
              "      <td>40.6911</td>\n",
              "      <td>-74.1773</td>\n",
              "      <td>B02764</td>\n",
              "      <td>September</td>\n",
              "      <td>Tuesday</td>\n",
              "      <td>30</td>\n",
              "      <td>22</td>\n",
              "      <td>57</td>\n",
              "    </tr>\n",
              "    <tr>\n",
              "      <th>4534324</th>\n",
              "      <td>2014-09-30 22:58:00</td>\n",
              "      <td>40.8519</td>\n",
              "      <td>-73.9319</td>\n",
              "      <td>B02764</td>\n",
              "      <td>September</td>\n",
              "      <td>Tuesday</td>\n",
              "      <td>30</td>\n",
              "      <td>22</td>\n",
              "      <td>58</td>\n",
              "    </tr>\n",
              "    <tr>\n",
              "      <th>4534325</th>\n",
              "      <td>2014-09-30 22:58:00</td>\n",
              "      <td>40.7081</td>\n",
              "      <td>-74.0066</td>\n",
              "      <td>B02764</td>\n",
              "      <td>September</td>\n",
              "      <td>Tuesday</td>\n",
              "      <td>30</td>\n",
              "      <td>22</td>\n",
              "      <td>58</td>\n",
              "    </tr>\n",
              "    <tr>\n",
              "      <th>4534326</th>\n",
              "      <td>2014-09-30 22:58:00</td>\n",
              "      <td>40.7140</td>\n",
              "      <td>-73.9496</td>\n",
              "      <td>B02764</td>\n",
              "      <td>September</td>\n",
              "      <td>Tuesday</td>\n",
              "      <td>30</td>\n",
              "      <td>22</td>\n",
              "      <td>58</td>\n",
              "    </tr>\n",
              "  </tbody>\n",
              "</table>\n",
              "<p>4534327 rows × 9 columns</p>\n",
              "</div>"
            ],
            "text/plain": [
              "                  Date_Time      Lat      Lon    Base      Month  Weekday  \\\n",
              "0       2014-04-01 00:11:00  40.7690 -73.9549  B02512      April  Tuesday   \n",
              "1       2014-04-01 00:17:00  40.7267 -74.0345  B02512      April  Tuesday   \n",
              "2       2014-04-01 00:21:00  40.7316 -73.9873  B02512      April  Tuesday   \n",
              "3       2014-04-01 00:28:00  40.7588 -73.9776  B02512      April  Tuesday   \n",
              "4       2014-04-01 00:33:00  40.7594 -73.9722  B02512      April  Tuesday   \n",
              "...                     ...      ...      ...     ...        ...      ...   \n",
              "4534322 2014-09-30 22:57:00  40.7668 -73.9845  B02764  September  Tuesday   \n",
              "4534323 2014-09-30 22:57:00  40.6911 -74.1773  B02764  September  Tuesday   \n",
              "4534324 2014-09-30 22:58:00  40.8519 -73.9319  B02764  September  Tuesday   \n",
              "4534325 2014-09-30 22:58:00  40.7081 -74.0066  B02764  September  Tuesday   \n",
              "4534326 2014-09-30 22:58:00  40.7140 -73.9496  B02764  September  Tuesday   \n",
              "\n",
              "         Day  Hour  Minute  \n",
              "0          1     0      11  \n",
              "1          1     0      17  \n",
              "2          1     0      21  \n",
              "3          1     0      28  \n",
              "4          1     0      33  \n",
              "...      ...   ...     ...  \n",
              "4534322   30    22      57  \n",
              "4534323   30    22      57  \n",
              "4534324   30    22      58  \n",
              "4534325   30    22      58  \n",
              "4534326   30    22      58  \n",
              "\n",
              "[4534327 rows x 9 columns]"
            ]
          },
          "metadata": {
            "tags": []
          },
          "execution_count": 230
        }
      ]
    },
    {
      "cell_type": "markdown",
      "metadata": {
        "id": "IkU3Yh1ciydZ"
      },
      "source": [
        "### TRIPS BY HOUR"
      ]
    },
    {
      "cell_type": "code",
      "metadata": {
        "id": "4j7rXWe6iyda",
        "outputId": "1f22c810-1a2c-4ac2-f476-4a5df7d99b0b"
      },
      "source": [
        "# Grouping by Hour \n",
        "hour_grouped_df = renamed_df.groupby(['Hour']).count()\n",
        "\n",
        "# Creating the sub dataframe\n",
        "df_hour = pd.DataFrame({'Number_of_trips':hour_grouped_df.values[:,0]}, index = hour_grouped_df.index)\n",
        "\n",
        "df_hour.head()"
      ],
      "execution_count": null,
      "outputs": [
        {
          "output_type": "execute_result",
          "data": {
            "text/html": [
              "<div>\n",
              "<style scoped>\n",
              "    .dataframe tbody tr th:only-of-type {\n",
              "        vertical-align: middle;\n",
              "    }\n",
              "\n",
              "    .dataframe tbody tr th {\n",
              "        vertical-align: top;\n",
              "    }\n",
              "\n",
              "    .dataframe thead th {\n",
              "        text-align: right;\n",
              "    }\n",
              "</style>\n",
              "<table border=\"1\" class=\"dataframe\">\n",
              "  <thead>\n",
              "    <tr style=\"text-align: right;\">\n",
              "      <th></th>\n",
              "      <th>Number_of_trips</th>\n",
              "    </tr>\n",
              "    <tr>\n",
              "      <th>Hour</th>\n",
              "      <th></th>\n",
              "    </tr>\n",
              "  </thead>\n",
              "  <tbody>\n",
              "    <tr>\n",
              "      <th>0</th>\n",
              "      <td>103836</td>\n",
              "    </tr>\n",
              "    <tr>\n",
              "      <th>1</th>\n",
              "      <td>67227</td>\n",
              "    </tr>\n",
              "    <tr>\n",
              "      <th>2</th>\n",
              "      <td>45865</td>\n",
              "    </tr>\n",
              "    <tr>\n",
              "      <th>3</th>\n",
              "      <td>48287</td>\n",
              "    </tr>\n",
              "    <tr>\n",
              "      <th>4</th>\n",
              "      <td>55230</td>\n",
              "    </tr>\n",
              "  </tbody>\n",
              "</table>\n",
              "</div>"
            ],
            "text/plain": [
              "      Number_of_trips\n",
              "Hour                 \n",
              "0              103836\n",
              "1               67227\n",
              "2               45865\n",
              "3               48287\n",
              "4               55230"
            ]
          },
          "metadata": {
            "tags": []
          },
          "execution_count": 231
        }
      ]
    },
    {
      "cell_type": "markdown",
      "metadata": {
        "id": "M4nDNC0Tiydb"
      },
      "source": [
        "### Plotting the results"
      ]
    },
    {
      "cell_type": "code",
      "metadata": {
        "id": "W33Eo1Rriydc",
        "outputId": "6ce38828-01fb-4e6a-8ddf-bb23ab49e8be"
      },
      "source": [
        "df_hour.plot(kind ='bar', figsize = (8,6))\n",
        "\n",
        "plt.ylabel('Number of Trips')\n",
        "\n",
        "plt.title('Trips by Hour')\n",
        "\n",
        "plt.show()"
      ],
      "execution_count": null,
      "outputs": [
        {
          "output_type": "display_data",
          "data": {
            "image/png": "[encoded data removed]",
            "text/plain": [
              "<Figure size 576x432 with 1 Axes>"
            ]
          },
          "metadata": {
            "tags": [],
            "needs_background": "light"
          }
        }
      ]
    },
    {
      "cell_type": "markdown",
      "metadata": {
        "id": "Vi98zFuLiydd"
      },
      "source": [
        "### Analysing the results"
      ]
    },
    {
      "cell_type": "code",
      "metadata": {
        "id": "Cf_ixf9aiydd",
        "outputId": "598406ec-02fe-4c08-abec-84b9fd104006"
      },
      "source": [
        "# The highest number of trips by hour\n",
        "\n",
        "max_Number_of_trips_hour = max(df_hour['Number_of_trips'])\n",
        "\n",
        "max_hour = df_hour[df_hour['Number_of_trips'] == max_Number_of_trips_hour].index[0]\n",
        "\n",
        "print(f'The highest number of trips by hour is {max_Number_of_trips_hour} trip, that corresponds to the peak hour {max_hour}:00.')"
      ],
      "execution_count": null,
      "outputs": [
        {
          "output_type": "stream",
          "text": [
            "The highest number of trips by hour is 336190 trip, that corresponds to the peak hour 17:00.\n"
          ],
          "name": "stdout"
        }
      ]
    },
    {
      "cell_type": "markdown",
      "metadata": {
        "id": "pOBke8X4iyde"
      },
      "source": [
        "We observe that the number of trips are higher around 16:00 and 18:00, with a spike at 17:00. It matches the end of a working day in the United States (16:30), the time when the workers go home.\n",
        "\n",
        "We can say that s big part of Uber's clients are workers."
      ]
    },
    {
      "cell_type": "markdown",
      "metadata": {
        "id": "rWFqY9uSiydh"
      },
      "source": [
        "### TRIPS BY MONTH"
      ]
    },
    {
      "cell_type": "code",
      "metadata": {
        "id": "Epp_q9BXiydh",
        "outputId": "ce777385-f79e-4a2c-92d4-61f1719d2327"
      },
      "source": [
        "# Grouping by Month \n",
        "month_grouped_df = renamed_df.groupby(['Month'], sort = False).count()\n",
        "\n",
        "# Creating the sub dataframe\n",
        "df_month = pd.DataFrame({'Number_of_trips':month_grouped_df.values[:,0]}, index = month_grouped_df.index)\n",
        "\n",
        "df_month"
      ],
      "execution_count": null,
      "outputs": [
        {
          "output_type": "execute_result",
          "data": {
            "text/html": [
              "<div>\n",
              "<style scoped>\n",
              "    .dataframe tbody tr th:only-of-type {\n",
              "        vertical-align: middle;\n",
              "    }\n",
              "\n",
              "    .dataframe tbody tr th {\n",
              "        vertical-align: top;\n",
              "    }\n",
              "\n",
              "    .dataframe thead th {\n",
              "        text-align: right;\n",
              "    }\n",
              "</style>\n",
              "<table border=\"1\" class=\"dataframe\">\n",
              "  <thead>\n",
              "    <tr style=\"text-align: right;\">\n",
              "      <th></th>\n",
              "      <th>Number_of_trips</th>\n",
              "    </tr>\n",
              "    <tr>\n",
              "      <th>Month</th>\n",
              "      <th></th>\n",
              "    </tr>\n",
              "  </thead>\n",
              "  <tbody>\n",
              "    <tr>\n",
              "      <th>April</th>\n",
              "      <td>564516</td>\n",
              "    </tr>\n",
              "    <tr>\n",
              "      <th>May</th>\n",
              "      <td>652435</td>\n",
              "    </tr>\n",
              "    <tr>\n",
              "      <th>June</th>\n",
              "      <td>663844</td>\n",
              "    </tr>\n",
              "    <tr>\n",
              "      <th>July</th>\n",
              "      <td>796121</td>\n",
              "    </tr>\n",
              "    <tr>\n",
              "      <th>August</th>\n",
              "      <td>829275</td>\n",
              "    </tr>\n",
              "    <tr>\n",
              "      <th>September</th>\n",
              "      <td>1028136</td>\n",
              "    </tr>\n",
              "  </tbody>\n",
              "</table>\n",
              "</div>"
            ],
            "text/plain": [
              "           Number_of_trips\n",
              "Month                     \n",
              "April               564516\n",
              "May                 652435\n",
              "June                663844\n",
              "July                796121\n",
              "August              829275\n",
              "September          1028136"
            ]
          },
          "metadata": {
            "tags": []
          },
          "execution_count": 234
        }
      ]
    },
    {
      "cell_type": "markdown",
      "metadata": {
        "id": "xO3S186Miydi"
      },
      "source": [
        "### Plotting the results"
      ]
    },
    {
      "cell_type": "code",
      "metadata": {
        "id": "BiKhNDfxiydi",
        "outputId": "e5784976-e54f-4824-8321-7e5af7430c91"
      },
      "source": [
        "df_month.plot(kind='bar', figsize=(8,6))\n",
        "\n",
        "plt.ylabel('Number of Trips')\n",
        "\n",
        "plt.title('Trips by Month')\n",
        "\n",
        "plt.show()"
      ],
      "execution_count": null,
      "outputs": [
        {
          "output_type": "display_data",
          "data": {
            "image/png": "[encoded data removed]",
            "text/plain": [
              "<Figure size 576x432 with 1 Axes>"
            ]
          },
          "metadata": {
            "tags": [],
            "needs_background": "light"
          }
        }
      ]
    },
    {
      "cell_type": "markdown",
      "metadata": {
        "id": "mBnngkJFiydj"
      },
      "source": [
        "### Analysing the results"
      ]
    },
    {
      "cell_type": "markdown",
      "metadata": {
        "id": "_uVH2c_Oiydk"
      },
      "source": [
        "We observe that the number of trips increases each month, with a peak increase between August and September."
      ]
    },
    {
      "cell_type": "code",
      "metadata": {
        "id": "6O2uu8e6iydk",
        "outputId": "904780f8-fcbd-454a-ba8b-94edbd9685b6"
      },
      "source": [
        "number_of_trips_aug = df_month.loc['August'].values\n",
        "\n",
        "number_of_trips_sep = df_month.loc['September'].values\n",
        "\n",
        "ratio_month = (((number_of_trips_sep - number_of_trips_aug) / number_of_trips_aug) * 100)[0]\n",
        "\n",
        "ratio_month = round(ratio_month)\n",
        "\n",
        "print(f'The ratio of the increase from August to September is {ratio_month} %.')"
      ],
      "execution_count": null,
      "outputs": [
        {
          "output_type": "stream",
          "text": [
            "The ratio of the increase from August to September is 24 %.\n"
          ],
          "name": "stdout"
        }
      ]
    },
    {
      "cell_type": "markdown",
      "metadata": {
        "id": "3Jlh8-3Liydl"
      },
      "source": [
        "From our results we can say that from April to September 2014, Uber was in a continuous improvement process."
      ]
    },
    {
      "cell_type": "markdown",
      "metadata": {
        "id": "Y1lgu6NTiydl"
      },
      "source": [
        "### TRIPS BY WEEKDAY"
      ]
    },
    {
      "cell_type": "code",
      "metadata": {
        "id": "8aokJLtHiydm",
        "outputId": "b1eb5be4-1748-4af4-cc9c-3e396e680544"
      },
      "source": [
        "# Grouping by Weekday\n",
        "weekday_grouped_df = renamed_df.groupby(['Weekday'], sort = False).count()\n",
        "\n",
        "# Creating the grouped DataFrame\n",
        "df_weekday = pd.DataFrame({'Number_of_trips':weekday_grouped_df.values[:,0]}, index = weekday_grouped_df.index) \n",
        "\n",
        "df_weekday"
      ],
      "execution_count": null,
      "outputs": [
        {
          "output_type": "execute_result",
          "data": {
            "text/html": [
              "<div>\n",
              "<style scoped>\n",
              "    .dataframe tbody tr th:only-of-type {\n",
              "        vertical-align: middle;\n",
              "    }\n",
              "\n",
              "    .dataframe tbody tr th {\n",
              "        vertical-align: top;\n",
              "    }\n",
              "\n",
              "    .dataframe thead th {\n",
              "        text-align: right;\n",
              "    }\n",
              "</style>\n",
              "<table border=\"1\" class=\"dataframe\">\n",
              "  <thead>\n",
              "    <tr style=\"text-align: right;\">\n",
              "      <th></th>\n",
              "      <th>Number_of_trips</th>\n",
              "    </tr>\n",
              "    <tr>\n",
              "      <th>Weekday</th>\n",
              "      <th></th>\n",
              "    </tr>\n",
              "  </thead>\n",
              "  <tbody>\n",
              "    <tr>\n",
              "      <th>Tuesday</th>\n",
              "      <td>663789</td>\n",
              "    </tr>\n",
              "    <tr>\n",
              "      <th>Wednesday</th>\n",
              "      <td>696488</td>\n",
              "    </tr>\n",
              "    <tr>\n",
              "      <th>Thursday</th>\n",
              "      <td>755145</td>\n",
              "    </tr>\n",
              "    <tr>\n",
              "      <th>Friday</th>\n",
              "      <td>741139</td>\n",
              "    </tr>\n",
              "    <tr>\n",
              "      <th>Saturday</th>\n",
              "      <td>646114</td>\n",
              "    </tr>\n",
              "    <tr>\n",
              "      <th>Sunday</th>\n",
              "      <td>490180</td>\n",
              "    </tr>\n",
              "    <tr>\n",
              "      <th>Monday</th>\n",
              "      <td>541472</td>\n",
              "    </tr>\n",
              "  </tbody>\n",
              "</table>\n",
              "</div>"
            ],
            "text/plain": [
              "           Number_of_trips\n",
              "Weekday                   \n",
              "Tuesday             663789\n",
              "Wednesday           696488\n",
              "Thursday            755145\n",
              "Friday              741139\n",
              "Saturday            646114\n",
              "Sunday              490180\n",
              "Monday              541472"
            ]
          },
          "metadata": {
            "tags": []
          },
          "execution_count": 237
        }
      ]
    },
    {
      "cell_type": "markdown",
      "metadata": {
        "id": "Xyk80EQDiydm"
      },
      "source": [
        "### Plotting the results"
      ]
    },
    {
      "cell_type": "code",
      "metadata": {
        "id": "LntnyMlciydm",
        "outputId": "2ef26e3c-4009-450a-9515-d4c8e357048b"
      },
      "source": [
        "df_weekday.plot(kind='bar', figsize=(8,6))\n",
        "\n",
        "plt.ylabel('Number of Trips')\n",
        "\n",
        "plt.title('Trips by Weekday')\n",
        "\n",
        "plt.show()"
      ],
      "execution_count": null,
      "outputs": [
        {
          "output_type": "display_data",
          "data": {
            "image/png": "[encoded data removed]",
            "text/plain": [
              "<Figure size 576x432 with 1 Axes>"
            ]
          },
          "metadata": {
            "tags": [],
            "needs_background": "light"
          }
        }
      ]
    },
    {
      "cell_type": "markdown",
      "metadata": {
        "id": "BFcE2-IKiydn"
      },
      "source": [
        "### Analysing the results"
      ]
    },
    {
      "cell_type": "code",
      "metadata": {
        "id": "pxAscaiziydn",
        "outputId": "e6eb0a25-3d01-4b21-fbfe-a7528e9703c2"
      },
      "source": [
        "# Getting the minimum number of trips by weekday\n",
        "min_number_of_trips_weekday = min(df_weekday['Number_of_trips'])\n",
        "\n",
        "# Getting the weekday where the number of trips is minimal\n",
        "min_weekday = df_weekday[df_weekday['Number_of_trips'] == min_number_of_trips_weekday].index[0]\n",
        "\n",
        "print(f'The lowest number of trips by weekday is {min_number_of_trips_weekday} trip, that corresponds to {min_weekday}.')"
      ],
      "execution_count": null,
      "outputs": [
        {
          "output_type": "stream",
          "text": [
            "The lowest number of trips by weekday is 490180 trip, that corresponds to Sunday.\n"
          ],
          "name": "stdout"
        }
      ]
    },
    {
      "cell_type": "code",
      "metadata": {
        "id": "guzNKlsWiydo",
        "outputId": "49b82c30-940f-4523-88c8-8edf91c3150c"
      },
      "source": [
        "# Getting the mean number of trips in the weekend - Non working day\n",
        "mean_number_of_trips_weekend = ((df_weekday.loc['Saturday'] + df_weekday.loc['Sunday']) / 2).values\n",
        "\n",
        "# Getting the mean number of trips for the rest of the week- Working day\n",
        "mean_number_of_trips_workday = (((df_weekday.loc['Monday'] + df_weekday.loc['Tuesday'] + df_weekday.loc['Wednesday'] + df_weekday.loc['Thursday'] + df_weekday.loc['Friday'])/ 5).values)[0]\n",
        "\n",
        "ratio_weekday = (((mean_number_of_trips_workday - mean_number_of_trips_weekend) / mean_number_of_trips_weekend) * 100)[0]\n",
        "ratio_weekday = round(ratio_weekday, 1)\n",
        "\n",
        "print(f'The mean number of trips during working days is {ratio_weekday}% higher than the mean number of trips during weekends.')"
      ],
      "execution_count": null,
      "outputs": [
        {
          "output_type": "stream",
          "text": [
            "The mean number of trips during working days is 19.6% higher than the mean number of trips during weekends.\n"
          ],
          "name": "stdout"
        }
      ]
    },
    {
      "cell_type": "markdown",
      "metadata": {
        "id": "OvGAu5Jtiydp"
      },
      "source": [
        "As the ratio between workdays and weekends only 19.6%, and because of the low number of trips on Monday, it cannot be said that people use Uber on workdays more than on weekends.\n",
        "\n",
        "We need to investigate more to find out why the number of trips on mondays is as low."
      ]
    },
    {
      "cell_type": "markdown",
      "metadata": {
        "id": "Zk_hGOBHiydp"
      },
      "source": [
        "### TRIPS BY DAY"
      ]
    },
    {
      "cell_type": "code",
      "metadata": {
        "id": "C9MNZwHPiydq",
        "outputId": "585c49c4-904f-4d6d-905a-5f62908c33a9"
      },
      "source": [
        "# Grouping by Day\n",
        "day_grouped_df = renamed_df.groupby(['Day']).count()\n",
        "\n",
        "# Creating the grouped DataFrame\n",
        "df_day = pd.DataFrame({'Number_of_trips':day_grouped_df.values[:,0]}, index = day_grouped_df.index) \n",
        "\n",
        "df_day.head()"
      ],
      "execution_count": null,
      "outputs": [
        {
          "output_type": "execute_result",
          "data": {
            "text/html": [
              "<div>\n",
              "<style scoped>\n",
              "    .dataframe tbody tr th:only-of-type {\n",
              "        vertical-align: middle;\n",
              "    }\n",
              "\n",
              "    .dataframe tbody tr th {\n",
              "        vertical-align: top;\n",
              "    }\n",
              "\n",
              "    .dataframe thead th {\n",
              "        text-align: right;\n",
              "    }\n",
              "</style>\n",
              "<table border=\"1\" class=\"dataframe\">\n",
              "  <thead>\n",
              "    <tr style=\"text-align: right;\">\n",
              "      <th></th>\n",
              "      <th>Number_of_trips</th>\n",
              "    </tr>\n",
              "    <tr>\n",
              "      <th>Day</th>\n",
              "      <th></th>\n",
              "    </tr>\n",
              "  </thead>\n",
              "  <tbody>\n",
              "    <tr>\n",
              "      <th>1</th>\n",
              "      <td>127430</td>\n",
              "    </tr>\n",
              "    <tr>\n",
              "      <th>2</th>\n",
              "      <td>143201</td>\n",
              "    </tr>\n",
              "    <tr>\n",
              "      <th>3</th>\n",
              "      <td>142983</td>\n",
              "    </tr>\n",
              "    <tr>\n",
              "      <th>4</th>\n",
              "      <td>140923</td>\n",
              "    </tr>\n",
              "    <tr>\n",
              "      <th>5</th>\n",
              "      <td>147054</td>\n",
              "    </tr>\n",
              "  </tbody>\n",
              "</table>\n",
              "</div>"
            ],
            "text/plain": [
              "     Number_of_trips\n",
              "Day                 \n",
              "1             127430\n",
              "2             143201\n",
              "3             142983\n",
              "4             140923\n",
              "5             147054"
            ]
          },
          "metadata": {
            "tags": []
          },
          "execution_count": 241
        }
      ]
    },
    {
      "cell_type": "markdown",
      "metadata": {
        "id": "A4LDPS09iydq"
      },
      "source": [
        "### Plotting the results"
      ]
    },
    {
      "cell_type": "code",
      "metadata": {
        "id": "vN_z8CdEiydr",
        "outputId": "f5a15034-739e-4c79-87fe-85133961130a"
      },
      "source": [
        "df_day.plot(kind='bar', figsize=(10,8))\n",
        "\n",
        "plt.ylabel('Number of Trips')\n",
        "\n",
        "plt.title('Trips by Day')\n",
        "\n",
        "plt.show()"
      ],
      "execution_count": null,
      "outputs": [
        {
          "output_type": "display_data",
          "data": {
            "image/png": "[encoded data removed]",
            "text/plain": [
              "<Figure size 720x576 with 1 Axes>"
            ]
          },
          "metadata": {
            "tags": [],
            "needs_background": "light"
          }
        }
      ]
    },
    {
      "cell_type": "markdown",
      "metadata": {
        "id": "hjDEQG1Viydr"
      },
      "source": [
        "### Analysing the results"
      ]
    },
    {
      "cell_type": "markdown",
      "metadata": {
        "id": "USWD1kzPiydr"
      },
      "source": [
        "The number of trips for the day 31 is a lot less than the others because April, June and September have 30 days.\n",
        "\n",
        "The day with the highest number of trips is the 30. There's not much variation from day to day."
      ]
    },
    {
      "cell_type": "markdown",
      "metadata": {
        "id": "VIDDi79Diyds"
      },
      "source": [
        "### TRIPS BY HOUR AND MONTH"
      ]
    },
    {
      "cell_type": "code",
      "metadata": {
        "id": "sJ3TVvSIiyds",
        "outputId": "1fbf6b65-b6a1-47f4-ca63-724a6187d2a3"
      },
      "source": [
        "# Grouping by Hour and Month\n",
        "hour_month_grouped_df = renamed_df.groupby(['Hour','Month']).count()\n",
        "\n",
        "# Creating the grouped DataFrame\n",
        "df_hour_month = pd.DataFrame({'Number_of_trips':hour_month_grouped_df.values[:,1]}, index = hour_month_grouped_df.index) \n",
        "\n",
        "df_hour_month.head(10)"
      ],
      "execution_count": null,
      "outputs": [
        {
          "output_type": "execute_result",
          "data": {
            "text/html": [
              "<div>\n",
              "<style scoped>\n",
              "    .dataframe tbody tr th:only-of-type {\n",
              "        vertical-align: middle;\n",
              "    }\n",
              "\n",
              "    .dataframe tbody tr th {\n",
              "        vertical-align: top;\n",
              "    }\n",
              "\n",
              "    .dataframe thead th {\n",
              "        text-align: right;\n",
              "    }\n",
              "</style>\n",
              "<table border=\"1\" class=\"dataframe\">\n",
              "  <thead>\n",
              "    <tr style=\"text-align: right;\">\n",
              "      <th></th>\n",
              "      <th></th>\n",
              "      <th>Number_of_trips</th>\n",
              "    </tr>\n",
              "    <tr>\n",
              "      <th>Hour</th>\n",
              "      <th>Month</th>\n",
              "      <th></th>\n",
              "    </tr>\n",
              "  </thead>\n",
              "  <tbody>\n",
              "    <tr>\n",
              "      <th rowspan=\"6\" valign=\"top\">0</th>\n",
              "      <th>April</th>\n",
              "      <td>11910</td>\n",
              "    </tr>\n",
              "    <tr>\n",
              "      <th>August</th>\n",
              "      <td>21451</td>\n",
              "    </tr>\n",
              "    <tr>\n",
              "      <th>July</th>\n",
              "      <td>17953</td>\n",
              "    </tr>\n",
              "    <tr>\n",
              "      <th>June</th>\n",
              "      <td>14514</td>\n",
              "    </tr>\n",
              "    <tr>\n",
              "      <th>May</th>\n",
              "      <td>13875</td>\n",
              "    </tr>\n",
              "    <tr>\n",
              "      <th>September</th>\n",
              "      <td>24133</td>\n",
              "    </tr>\n",
              "    <tr>\n",
              "      <th rowspan=\"4\" valign=\"top\">1</th>\n",
              "      <th>April</th>\n",
              "      <td>7769</td>\n",
              "    </tr>\n",
              "    <tr>\n",
              "      <th>August</th>\n",
              "      <td>14471</td>\n",
              "    </tr>\n",
              "    <tr>\n",
              "      <th>July</th>\n",
              "      <td>11527</td>\n",
              "    </tr>\n",
              "    <tr>\n",
              "      <th>June</th>\n",
              "      <td>9167</td>\n",
              "    </tr>\n",
              "  </tbody>\n",
              "</table>\n",
              "</div>"
            ],
            "text/plain": [
              "                Number_of_trips\n",
              "Hour Month                     \n",
              "0    April                11910\n",
              "     August               21451\n",
              "     July                 17953\n",
              "     June                 14514\n",
              "     May                  13875\n",
              "     September            24133\n",
              "1    April                 7769\n",
              "     August               14471\n",
              "     July                 11527\n",
              "     June                  9167"
            ]
          },
          "metadata": {
            "tags": []
          },
          "execution_count": 243
        }
      ]
    },
    {
      "cell_type": "code",
      "metadata": {
        "id": "8m3Y3Ct3iydt",
        "outputId": "b9ab7fa0-bb15-47f4-f2ec-6fef58e34f81"
      },
      "source": [
        "# Reseting the Index\n",
        "df_hour_month.reset_index(inplace= True)\n",
        "\n",
        "df_hour_month.head()"
      ],
      "execution_count": null,
      "outputs": [
        {
          "output_type": "execute_result",
          "data": {
            "text/html": [
              "<div>\n",
              "<style scoped>\n",
              "    .dataframe tbody tr th:only-of-type {\n",
              "        vertical-align: middle;\n",
              "    }\n",
              "\n",
              "    .dataframe tbody tr th {\n",
              "        vertical-align: top;\n",
              "    }\n",
              "\n",
              "    .dataframe thead th {\n",
              "        text-align: right;\n",
              "    }\n",
              "</style>\n",
              "<table border=\"1\" class=\"dataframe\">\n",
              "  <thead>\n",
              "    <tr style=\"text-align: right;\">\n",
              "      <th></th>\n",
              "      <th>Hour</th>\n",
              "      <th>Month</th>\n",
              "      <th>Number_of_trips</th>\n",
              "    </tr>\n",
              "  </thead>\n",
              "  <tbody>\n",
              "    <tr>\n",
              "      <th>0</th>\n",
              "      <td>0</td>\n",
              "      <td>April</td>\n",
              "      <td>11910</td>\n",
              "    </tr>\n",
              "    <tr>\n",
              "      <th>1</th>\n",
              "      <td>0</td>\n",
              "      <td>August</td>\n",
              "      <td>21451</td>\n",
              "    </tr>\n",
              "    <tr>\n",
              "      <th>2</th>\n",
              "      <td>0</td>\n",
              "      <td>July</td>\n",
              "      <td>17953</td>\n",
              "    </tr>\n",
              "    <tr>\n",
              "      <th>3</th>\n",
              "      <td>0</td>\n",
              "      <td>June</td>\n",
              "      <td>14514</td>\n",
              "    </tr>\n",
              "    <tr>\n",
              "      <th>4</th>\n",
              "      <td>0</td>\n",
              "      <td>May</td>\n",
              "      <td>13875</td>\n",
              "    </tr>\n",
              "  </tbody>\n",
              "</table>\n",
              "</div>"
            ],
            "text/plain": [
              "   Hour   Month  Number_of_trips\n",
              "0     0   April            11910\n",
              "1     0  August            21451\n",
              "2     0    July            17953\n",
              "3     0    June            14514\n",
              "4     0     May            13875"
            ]
          },
          "metadata": {
            "tags": []
          },
          "execution_count": 244
        }
      ]
    },
    {
      "cell_type": "code",
      "metadata": {
        "id": "Ow4bHopLiydt",
        "outputId": "f14add5c-ca32-4430-910a-51144d31788b"
      },
      "source": [
        "# Preparing the Number of trips data\n",
        "# We create a Numpy array that includes the Number of trips data then reshape it to fit our \n",
        "\n",
        "data_hour_month = df_hour_month['Number_of_trips'].values.reshape(24,6)\n",
        "\n",
        "data_hour_month"
      ],
      "execution_count": null,
      "outputs": [
        {
          "output_type": "execute_result",
          "data": {
            "text/plain": [
              "array([[11910, 21451, 17953, 14514, 13875, 24133],\n",
              "       [ 7769, 14471, 11527,  9167,  8186, 16107],\n",
              "       [ 4935, 10105,  8562,  6189,  5372, 10702],\n",
              "       [ 5040, 10376,  9199,  6937,  5946, 10789],\n",
              "       [ 6095, 11774, 10040,  7701,  6945, 12675],\n",
              "       [ 9476, 16525, 14932, 11955, 10789, 20262],\n",
              "       [18498, 24907, 23456, 22030, 21015, 33307],\n",
              "       [24924, 34064, 32545, 30834, 27413, 43314],\n",
              "       [22843, 34566, 33387, 29771, 25460, 44477],\n",
              "       [17939, 30195, 28486, 24298, 20507, 38542],\n",
              "       [17865, 30706, 28558, 23584, 20801, 37634],\n",
              "       [18774, 31778, 30120, 24155, 22055, 38821],\n",
              "       [19425, 32106, 30900, 25233, 23595, 39193],\n",
              "       [22603, 35764, 35832, 28937, 27699, 45042],\n",
              "       [27190, 40644, 41357, 34428, 34363, 52643],\n",
              "       [35324, 48197, 46053, 41586, 43087, 61219],\n",
              "       [42003, 53481, 52403, 48162, 49127, 68224],\n",
              "       [45475, 57122, 58260, 50452, 51508, 73373],\n",
              "       [43003, 55390, 57268, 45013, 48965, 75040],\n",
              "       [38923, 53008, 52332, 38203, 42387, 69660],\n",
              "       [36244, 51674, 51859, 40108, 40731, 63988],\n",
              "       [36964, 51354, 49528, 40791, 42217, 60606],\n",
              "       [30645, 46008, 42218, 35614, 35556, 51817],\n",
              "       [20649, 33609, 29346, 24182, 24836, 36568]], dtype=int64)"
            ]
          },
          "metadata": {
            "tags": []
          },
          "execution_count": 245
        }
      ]
    },
    {
      "cell_type": "code",
      "metadata": {
        "id": "aBCKIeDmiydt",
        "outputId": "6295dbf6-059c-428b-fc82-5ac0bba45aab"
      },
      "source": [
        "df_hour_month = pd.DataFrame(data = data_hour_month, index = df_hour_month['Hour'].unique(), columns = renamed_df['Month'].unique())\n",
        "\n",
        "df_hour_month.head()"
      ],
      "execution_count": null,
      "outputs": [
        {
          "output_type": "execute_result",
          "data": {
            "text/html": [
              "<div>\n",
              "<style scoped>\n",
              "    .dataframe tbody tr th:only-of-type {\n",
              "        vertical-align: middle;\n",
              "    }\n",
              "\n",
              "    .dataframe tbody tr th {\n",
              "        vertical-align: top;\n",
              "    }\n",
              "\n",
              "    .dataframe thead th {\n",
              "        text-align: right;\n",
              "    }\n",
              "</style>\n",
              "<table border=\"1\" class=\"dataframe\">\n",
              "  <thead>\n",
              "    <tr style=\"text-align: right;\">\n",
              "      <th></th>\n",
              "      <th>April</th>\n",
              "      <th>May</th>\n",
              "      <th>June</th>\n",
              "      <th>July</th>\n",
              "      <th>August</th>\n",
              "      <th>September</th>\n",
              "    </tr>\n",
              "  </thead>\n",
              "  <tbody>\n",
              "    <tr>\n",
              "      <th>0</th>\n",
              "      <td>11910</td>\n",
              "      <td>21451</td>\n",
              "      <td>17953</td>\n",
              "      <td>14514</td>\n",
              "      <td>13875</td>\n",
              "      <td>24133</td>\n",
              "    </tr>\n",
              "    <tr>\n",
              "      <th>1</th>\n",
              "      <td>7769</td>\n",
              "      <td>14471</td>\n",
              "      <td>11527</td>\n",
              "      <td>9167</td>\n",
              "      <td>8186</td>\n",
              "      <td>16107</td>\n",
              "    </tr>\n",
              "    <tr>\n",
              "      <th>2</th>\n",
              "      <td>4935</td>\n",
              "      <td>10105</td>\n",
              "      <td>8562</td>\n",
              "      <td>6189</td>\n",
              "      <td>5372</td>\n",
              "      <td>10702</td>\n",
              "    </tr>\n",
              "    <tr>\n",
              "      <th>3</th>\n",
              "      <td>5040</td>\n",
              "      <td>10376</td>\n",
              "      <td>9199</td>\n",
              "      <td>6937</td>\n",
              "      <td>5946</td>\n",
              "      <td>10789</td>\n",
              "    </tr>\n",
              "    <tr>\n",
              "      <th>4</th>\n",
              "      <td>6095</td>\n",
              "      <td>11774</td>\n",
              "      <td>10040</td>\n",
              "      <td>7701</td>\n",
              "      <td>6945</td>\n",
              "      <td>12675</td>\n",
              "    </tr>\n",
              "  </tbody>\n",
              "</table>\n",
              "</div>"
            ],
            "text/plain": [
              "   April    May   June   July  August  September\n",
              "0  11910  21451  17953  14514   13875      24133\n",
              "1   7769  14471  11527   9167    8186      16107\n",
              "2   4935  10105   8562   6189    5372      10702\n",
              "3   5040  10376   9199   6937    5946      10789\n",
              "4   6095  11774  10040   7701    6945      12675"
            ]
          },
          "metadata": {
            "tags": []
          },
          "execution_count": 246
        }
      ]
    },
    {
      "cell_type": "markdown",
      "metadata": {
        "id": "Vik3x986iydu"
      },
      "source": [
        "### Plotting the results"
      ]
    },
    {
      "cell_type": "code",
      "metadata": {
        "id": "qP_C7yNMiydu",
        "outputId": "bf13f6ba-063e-4b19-fbcd-047cc7406da3"
      },
      "source": [
        "df_hour_month.plot(kind = 'bar', figsize = (8,6), stacked = True)\n",
        "\n",
        "plt.xlabel('Hour')\n",
        "\n",
        "plt.ylabel('Number of Trips')\n",
        "\n",
        "plt.title('Trips by Hour and Month')\n",
        "\n",
        "plt.show()"
      ],
      "execution_count": null,
      "outputs": [
        {
          "output_type": "display_data",
          "data": {
            "image/png": "[encoded data removed]",
            "text/plain": [
              "<Figure size 576x432 with 1 Axes>"
            ]
          },
          "metadata": {
            "tags": [],
            "needs_background": "light"
          }
        }
      ]
    },
    {
      "cell_type": "code",
      "metadata": {
        "id": "mv-nYn08iydv",
        "outputId": "4065c3e5-a384-400d-ab76-52559af33237"
      },
      "source": [
        "df_hour_month.plot(kind = 'bar', figsize = (25,6), width = 0.8)\n",
        "\n",
        "plt.xlabel('Hour')\n",
        "\n",
        "plt.ylabel('Number of Trips')\n",
        "\n",
        "plt.title('Trips by Hour and Month')\n",
        "\n",
        "plt.show()\n"
      ],
      "execution_count": null,
      "outputs": [
        {
          "output_type": "display_data",
          "data": {
            "image/png": "[encoded data removed]",
            "text/plain": [
              "<Figure size 1800x432 with 1 Axes>"
            ]
          },
          "metadata": {
            "tags": [],
            "needs_background": "light"
          }
        }
      ]
    },
    {
      "cell_type": "markdown",
      "metadata": {
        "id": "UcSV-cHmiydv"
      },
      "source": [
        "### TRIPS BY WEEKDAY AND HOUR"
      ]
    },
    {
      "cell_type": "code",
      "metadata": {
        "id": "WV0gBbcwiydv",
        "outputId": "6b94044a-6b30-483c-883e-1ec611d82913"
      },
      "source": [
        "# Grouping by Hour and weekday\n",
        "weekday_hour_grouped_df = renamed_df.groupby(['Weekday','Hour'], sort = False).count()\n",
        "\n",
        "# Creating the grouped DataFrame\n",
        "df_weekday_hour = pd.DataFrame({'Number_of_trips':weekday_hour_grouped_df.values[:,1]}, index = weekday_hour_grouped_df.index) \n",
        "\n",
        "df_weekday_hour"
      ],
      "execution_count": null,
      "outputs": [
        {
          "output_type": "execute_result",
          "data": {
            "text/html": [
              "<div>\n",
              "<style scoped>\n",
              "    .dataframe tbody tr th:only-of-type {\n",
              "        vertical-align: middle;\n",
              "    }\n",
              "\n",
              "    .dataframe tbody tr th {\n",
              "        vertical-align: top;\n",
              "    }\n",
              "\n",
              "    .dataframe thead th {\n",
              "        text-align: right;\n",
              "    }\n",
              "</style>\n",
              "<table border=\"1\" class=\"dataframe\">\n",
              "  <thead>\n",
              "    <tr style=\"text-align: right;\">\n",
              "      <th></th>\n",
              "      <th></th>\n",
              "      <th>Number_of_trips</th>\n",
              "    </tr>\n",
              "    <tr>\n",
              "      <th>Weekday</th>\n",
              "      <th>Hour</th>\n",
              "      <th></th>\n",
              "    </tr>\n",
              "  </thead>\n",
              "  <tbody>\n",
              "    <tr>\n",
              "      <th rowspan=\"5\" valign=\"top\">Tuesday</th>\n",
              "      <th>0</th>\n",
              "      <td>6237</td>\n",
              "    </tr>\n",
              "    <tr>\n",
              "      <th>1</th>\n",
              "      <td>3509</td>\n",
              "    </tr>\n",
              "    <tr>\n",
              "      <th>2</th>\n",
              "      <td>2571</td>\n",
              "    </tr>\n",
              "    <tr>\n",
              "      <th>3</th>\n",
              "      <td>4494</td>\n",
              "    </tr>\n",
              "    <tr>\n",
              "      <th>4</th>\n",
              "      <td>7548</td>\n",
              "    </tr>\n",
              "    <tr>\n",
              "      <th>...</th>\n",
              "      <th>...</th>\n",
              "      <td>...</td>\n",
              "    </tr>\n",
              "    <tr>\n",
              "      <th rowspan=\"5\" valign=\"top\">Monday</th>\n",
              "      <th>19</th>\n",
              "      <td>34159</td>\n",
              "    </tr>\n",
              "    <tr>\n",
              "      <th>20</th>\n",
              "      <td>32849</td>\n",
              "    </tr>\n",
              "    <tr>\n",
              "      <th>21</th>\n",
              "      <td>28925</td>\n",
              "    </tr>\n",
              "    <tr>\n",
              "      <th>22</th>\n",
              "      <td>20158</td>\n",
              "    </tr>\n",
              "    <tr>\n",
              "      <th>23</th>\n",
              "      <td>11811</td>\n",
              "    </tr>\n",
              "  </tbody>\n",
              "</table>\n",
              "<p>168 rows × 1 columns</p>\n",
              "</div>"
            ],
            "text/plain": [
              "              Number_of_trips\n",
              "Weekday Hour                 \n",
              "Tuesday 0                6237\n",
              "        1                3509\n",
              "        2                2571\n",
              "        3                4494\n",
              "        4                7548\n",
              "...                       ...\n",
              "Monday  19              34159\n",
              "        20              32849\n",
              "        21              28925\n",
              "        22              20158\n",
              "        23              11811\n",
              "\n",
              "[168 rows x 1 columns]"
            ]
          },
          "metadata": {
            "tags": []
          },
          "execution_count": 249
        }
      ]
    },
    {
      "cell_type": "code",
      "metadata": {
        "id": "9HutT6O8iydw",
        "outputId": "c0cd4627-1961-4a0d-993b-6e5018adb634"
      },
      "source": [
        "# Reseting the Index\n",
        "df_weekday_hour.reset_index(inplace = True)\n",
        "\n",
        "# Preparing the Number of trips data\n",
        "data_weekday_hour = df_weekday_hour['Number_of_trips'].values.reshape(7,24)\n",
        "\n",
        "df_weekday_hour = pd.DataFrame(data = data_weekday_hour, index = df_weekday_hour['Weekday'].unique(), columns = renamed_df['Hour'].unique())\n",
        "\n",
        "df_weekday_hour.head()\n"
      ],
      "execution_count": null,
      "outputs": [
        {
          "output_type": "execute_result",
          "data": {
            "text/html": [
              "<div>\n",
              "<style scoped>\n",
              "    .dataframe tbody tr th:only-of-type {\n",
              "        vertical-align: middle;\n",
              "    }\n",
              "\n",
              "    .dataframe tbody tr th {\n",
              "        vertical-align: top;\n",
              "    }\n",
              "\n",
              "    .dataframe thead th {\n",
              "        text-align: right;\n",
              "    }\n",
              "</style>\n",
              "<table border=\"1\" class=\"dataframe\">\n",
              "  <thead>\n",
              "    <tr style=\"text-align: right;\">\n",
              "      <th></th>\n",
              "      <th>0</th>\n",
              "      <th>1</th>\n",
              "      <th>2</th>\n",
              "      <th>3</th>\n",
              "      <th>4</th>\n",
              "      <th>5</th>\n",
              "      <th>6</th>\n",
              "      <th>7</th>\n",
              "      <th>8</th>\n",
              "      <th>9</th>\n",
              "      <th>...</th>\n",
              "      <th>14</th>\n",
              "      <th>15</th>\n",
              "      <th>16</th>\n",
              "      <th>17</th>\n",
              "      <th>18</th>\n",
              "      <th>19</th>\n",
              "      <th>20</th>\n",
              "      <th>21</th>\n",
              "      <th>22</th>\n",
              "      <th>23</th>\n",
              "    </tr>\n",
              "  </thead>\n",
              "  <tbody>\n",
              "    <tr>\n",
              "      <th>Tuesday</th>\n",
              "      <td>6237</td>\n",
              "      <td>3509</td>\n",
              "      <td>2571</td>\n",
              "      <td>4494</td>\n",
              "      <td>7548</td>\n",
              "      <td>14241</td>\n",
              "      <td>26872</td>\n",
              "      <td>36599</td>\n",
              "      <td>33934</td>\n",
              "      <td>25023</td>\n",
              "      <td>...</td>\n",
              "      <td>34846</td>\n",
              "      <td>41338</td>\n",
              "      <td>48667</td>\n",
              "      <td>55500</td>\n",
              "      <td>50186</td>\n",
              "      <td>44789</td>\n",
              "      <td>44661</td>\n",
              "      <td>39913</td>\n",
              "      <td>27712</td>\n",
              "      <td>14869</td>\n",
              "    </tr>\n",
              "    <tr>\n",
              "      <th>Wednesday</th>\n",
              "      <td>7644</td>\n",
              "      <td>4324</td>\n",
              "      <td>3141</td>\n",
              "      <td>4855</td>\n",
              "      <td>7511</td>\n",
              "      <td>13794</td>\n",
              "      <td>26943</td>\n",
              "      <td>36495</td>\n",
              "      <td>33826</td>\n",
              "      <td>25635</td>\n",
              "      <td>...</td>\n",
              "      <td>35148</td>\n",
              "      <td>43388</td>\n",
              "      <td>50684</td>\n",
              "      <td>55637</td>\n",
              "      <td>52732</td>\n",
              "      <td>47017</td>\n",
              "      <td>47772</td>\n",
              "      <td>44553</td>\n",
              "      <td>32868</td>\n",
              "      <td>18146</td>\n",
              "    </tr>\n",
              "    <tr>\n",
              "      <th>Thursday</th>\n",
              "      <td>9293</td>\n",
              "      <td>5290</td>\n",
              "      <td>3719</td>\n",
              "      <td>5637</td>\n",
              "      <td>8505</td>\n",
              "      <td>14169</td>\n",
              "      <td>27065</td>\n",
              "      <td>37038</td>\n",
              "      <td>35431</td>\n",
              "      <td>27812</td>\n",
              "      <td>...</td>\n",
              "      <td>36699</td>\n",
              "      <td>44442</td>\n",
              "      <td>50560</td>\n",
              "      <td>56704</td>\n",
              "      <td>55825</td>\n",
              "      <td>51907</td>\n",
              "      <td>51990</td>\n",
              "      <td>51953</td>\n",
              "      <td>44194</td>\n",
              "      <td>27764</td>\n",
              "    </tr>\n",
              "    <tr>\n",
              "      <th>Friday</th>\n",
              "      <td>13716</td>\n",
              "      <td>8163</td>\n",
              "      <td>5350</td>\n",
              "      <td>6930</td>\n",
              "      <td>8806</td>\n",
              "      <td>13450</td>\n",
              "      <td>23412</td>\n",
              "      <td>32061</td>\n",
              "      <td>31509</td>\n",
              "      <td>25230</td>\n",
              "      <td>...</td>\n",
              "      <td>36206</td>\n",
              "      <td>43673</td>\n",
              "      <td>48169</td>\n",
              "      <td>51961</td>\n",
              "      <td>54762</td>\n",
              "      <td>49595</td>\n",
              "      <td>43542</td>\n",
              "      <td>48323</td>\n",
              "      <td>49409</td>\n",
              "      <td>41260</td>\n",
              "    </tr>\n",
              "    <tr>\n",
              "      <th>Saturday</th>\n",
              "      <td>27633</td>\n",
              "      <td>19189</td>\n",
              "      <td>12710</td>\n",
              "      <td>9542</td>\n",
              "      <td>6846</td>\n",
              "      <td>7084</td>\n",
              "      <td>8579</td>\n",
              "      <td>11014</td>\n",
              "      <td>14411</td>\n",
              "      <td>17669</td>\n",
              "      <td>...</td>\n",
              "      <td>31418</td>\n",
              "      <td>38769</td>\n",
              "      <td>43512</td>\n",
              "      <td>42844</td>\n",
              "      <td>45883</td>\n",
              "      <td>41098</td>\n",
              "      <td>38714</td>\n",
              "      <td>43826</td>\n",
              "      <td>47951</td>\n",
              "      <td>43174</td>\n",
              "    </tr>\n",
              "  </tbody>\n",
              "</table>\n",
              "<p>5 rows × 24 columns</p>\n",
              "</div>"
            ],
            "text/plain": [
              "              0      1      2     3     4      5      6      7      8      9   \\\n",
              "Tuesday     6237   3509   2571  4494  7548  14241  26872  36599  33934  25023   \n",
              "Wednesday   7644   4324   3141  4855  7511  13794  26943  36495  33826  25635   \n",
              "Thursday    9293   5290   3719  5637  8505  14169  27065  37038  35431  27812   \n",
              "Friday     13716   8163   5350  6930  8806  13450  23412  32061  31509  25230   \n",
              "Saturday   27633  19189  12710  9542  6846   7084   8579  11014  14411  17669   \n",
              "\n",
              "           ...     14     15     16     17     18     19     20     21     22  \\\n",
              "Tuesday    ...  34846  41338  48667  55500  50186  44789  44661  39913  27712   \n",
              "Wednesday  ...  35148  43388  50684  55637  52732  47017  47772  44553  32868   \n",
              "Thursday   ...  36699  44442  50560  56704  55825  51907  51990  51953  44194   \n",
              "Friday     ...  36206  43673  48169  51961  54762  49595  43542  48323  49409   \n",
              "Saturday   ...  31418  38769  43512  42844  45883  41098  38714  43826  47951   \n",
              "\n",
              "              23  \n",
              "Tuesday    14869  \n",
              "Wednesday  18146  \n",
              "Thursday   27764  \n",
              "Friday     41260  \n",
              "Saturday   43174  \n",
              "\n",
              "[5 rows x 24 columns]"
            ]
          },
          "metadata": {
            "tags": []
          },
          "execution_count": 250
        }
      ]
    },
    {
      "cell_type": "markdown",
      "metadata": {
        "id": "rDVdwSa_iydw"
      },
      "source": [
        "### Plotting the results"
      ]
    },
    {
      "cell_type": "code",
      "metadata": {
        "id": "hoc3xGjHiydw",
        "outputId": "9cfbc3fa-af74-4065-d11c-cc5883869b64"
      },
      "source": [
        "df_weekday_hour.plot(kind ='bar', figsize = (20,6), width = 0.7)\n",
        "\n",
        "plt.xlabel('Weekday')\n",
        "\n",
        "plt.ylabel('Number of Trips')\n",
        "\n",
        "plt.title('Trips by Hour and Weekday')\n",
        "\n",
        "plt.show()"
      ],
      "execution_count": null,
      "outputs": [
        {
          "output_type": "display_data",
          "data": {
            "image/png": "[encoded data removed]",
            "text/plain": [
              "<Figure size 1440x432 with 1 Axes>"
            ]
          },
          "metadata": {
            "tags": [],
            "needs_background": "light"
          }
        }
      ]
    },
    {
      "cell_type": "markdown",
      "metadata": {
        "id": "S2Au8PWTiydx"
      },
      "source": [
        "### Analysing the results"
      ]
    },
    {
      "cell_type": "markdown",
      "metadata": {
        "id": "BBMBqkRgiydx"
      },
      "source": [
        "We see that in working days there's a pulse at 7:00 and 8:00, it corresponds to the hour where the employees go to work. This pulse is not present on weekend days.\n",
        "\n",
        "At the same time we see that on weekend days the number of trips around midnight, 1:00 and 2:00 is higher than on working days."
      ]
    },
    {
      "cell_type": "markdown",
      "metadata": {
        "id": "Nf5OkQIpiydx"
      },
      "source": [
        "### TRIPS BY WEEKDAY AND MONTH"
      ]
    },
    {
      "cell_type": "code",
      "metadata": {
        "id": "vsHPsxHziydy",
        "outputId": "2342e4b0-b566-4fa3-c636-eb4ef18cc6c0"
      },
      "source": [
        "# Grouping by Weekday and Month\n",
        "month_weekday_grouped_df = renamed_df.groupby(['Month','Weekday'], sort = False).count()\n",
        "\n",
        "# Creating the grouped DataFrame\n",
        "df_month_weekday = pd.DataFrame({'Number_of_trips':month_weekday_grouped_df.values[:,1]}, index = month_weekday_grouped_df.index) \n",
        "\n",
        "df_month_weekday.head(10)"
      ],
      "execution_count": null,
      "outputs": [
        {
          "output_type": "execute_result",
          "data": {
            "text/html": [
              "<div>\n",
              "<style scoped>\n",
              "    .dataframe tbody tr th:only-of-type {\n",
              "        vertical-align: middle;\n",
              "    }\n",
              "\n",
              "    .dataframe tbody tr th {\n",
              "        vertical-align: top;\n",
              "    }\n",
              "\n",
              "    .dataframe thead th {\n",
              "        text-align: right;\n",
              "    }\n",
              "</style>\n",
              "<table border=\"1\" class=\"dataframe\">\n",
              "  <thead>\n",
              "    <tr style=\"text-align: right;\">\n",
              "      <th></th>\n",
              "      <th></th>\n",
              "      <th>Number_of_trips</th>\n",
              "    </tr>\n",
              "    <tr>\n",
              "      <th>Month</th>\n",
              "      <th>Weekday</th>\n",
              "      <th></th>\n",
              "    </tr>\n",
              "  </thead>\n",
              "  <tbody>\n",
              "    <tr>\n",
              "      <th rowspan=\"7\" valign=\"top\">April</th>\n",
              "      <th>Tuesday</th>\n",
              "      <td>91185</td>\n",
              "    </tr>\n",
              "    <tr>\n",
              "      <th>Wednesday</th>\n",
              "      <td>108631</td>\n",
              "    </tr>\n",
              "    <tr>\n",
              "      <th>Thursday</th>\n",
              "      <td>85067</td>\n",
              "    </tr>\n",
              "    <tr>\n",
              "      <th>Friday</th>\n",
              "      <td>90303</td>\n",
              "    </tr>\n",
              "    <tr>\n",
              "      <th>Saturday</th>\n",
              "      <td>77218</td>\n",
              "    </tr>\n",
              "    <tr>\n",
              "      <th>Sunday</th>\n",
              "      <td>51251</td>\n",
              "    </tr>\n",
              "    <tr>\n",
              "      <th>Monday</th>\n",
              "      <td>60861</td>\n",
              "    </tr>\n",
              "    <tr>\n",
              "      <th rowspan=\"3\" valign=\"top\">May</th>\n",
              "      <th>Thursday</th>\n",
              "      <td>128921</td>\n",
              "    </tr>\n",
              "    <tr>\n",
              "      <th>Friday</th>\n",
              "      <td>133991</td>\n",
              "    </tr>\n",
              "    <tr>\n",
              "      <th>Saturday</th>\n",
              "      <td>102990</td>\n",
              "    </tr>\n",
              "  </tbody>\n",
              "</table>\n",
              "</div>"
            ],
            "text/plain": [
              "                 Number_of_trips\n",
              "Month Weekday                   \n",
              "April Tuesday              91185\n",
              "      Wednesday           108631\n",
              "      Thursday             85067\n",
              "      Friday               90303\n",
              "      Saturday             77218\n",
              "      Sunday               51251\n",
              "      Monday               60861\n",
              "May   Thursday            128921\n",
              "      Friday              133991\n",
              "      Saturday            102990"
            ]
          },
          "metadata": {
            "tags": []
          },
          "execution_count": 252
        }
      ]
    },
    {
      "cell_type": "code",
      "metadata": {
        "id": "lBousNAIiydy",
        "outputId": "1e52e152-afed-4bf0-a44c-ace3c4ee107b"
      },
      "source": [
        "# Reseting the Index\n",
        "df_month_weekday.reset_index(inplace= True)\n",
        "\n",
        "# Preparing the Number of trips \n",
        "data_month_weekday = df_month_weekday['Number_of_trips'].values.reshape(6,7)\n",
        "\n",
        "df_month_weekday = pd.DataFrame(data = data_month_weekday, index = df_month_weekday['Month'].unique(), columns = renamed_df['Weekday'].unique())\n",
        "\n",
        "df_month_weekday.head()"
      ],
      "execution_count": null,
      "outputs": [
        {
          "output_type": "execute_result",
          "data": {
            "text/html": [
              "<div>\n",
              "<style scoped>\n",
              "    .dataframe tbody tr th:only-of-type {\n",
              "        vertical-align: middle;\n",
              "    }\n",
              "\n",
              "    .dataframe tbody tr th {\n",
              "        vertical-align: top;\n",
              "    }\n",
              "\n",
              "    .dataframe thead th {\n",
              "        text-align: right;\n",
              "    }\n",
              "</style>\n",
              "<table border=\"1\" class=\"dataframe\">\n",
              "  <thead>\n",
              "    <tr style=\"text-align: right;\">\n",
              "      <th></th>\n",
              "      <th>Tuesday</th>\n",
              "      <th>Wednesday</th>\n",
              "      <th>Thursday</th>\n",
              "      <th>Friday</th>\n",
              "      <th>Saturday</th>\n",
              "      <th>Sunday</th>\n",
              "      <th>Monday</th>\n",
              "    </tr>\n",
              "  </thead>\n",
              "  <tbody>\n",
              "    <tr>\n",
              "      <th>April</th>\n",
              "      <td>91185</td>\n",
              "      <td>108631</td>\n",
              "      <td>85067</td>\n",
              "      <td>90303</td>\n",
              "      <td>77218</td>\n",
              "      <td>51251</td>\n",
              "      <td>60861</td>\n",
              "    </tr>\n",
              "    <tr>\n",
              "      <th>May</th>\n",
              "      <td>128921</td>\n",
              "      <td>133991</td>\n",
              "      <td>102990</td>\n",
              "      <td>56168</td>\n",
              "      <td>63846</td>\n",
              "      <td>76662</td>\n",
              "      <td>89857</td>\n",
              "    </tr>\n",
              "    <tr>\n",
              "      <th>June</th>\n",
              "      <td>79656</td>\n",
              "      <td>94655</td>\n",
              "      <td>88134</td>\n",
              "      <td>99654</td>\n",
              "      <td>115325</td>\n",
              "      <td>105056</td>\n",
              "      <td>81364</td>\n",
              "    </tr>\n",
              "    <tr>\n",
              "      <th>July</th>\n",
              "      <td>137454</td>\n",
              "      <td>147717</td>\n",
              "      <td>148439</td>\n",
              "      <td>102735</td>\n",
              "      <td>90260</td>\n",
              "      <td>76327</td>\n",
              "      <td>93189</td>\n",
              "    </tr>\n",
              "    <tr>\n",
              "      <th>August</th>\n",
              "      <td>148674</td>\n",
              "      <td>132225</td>\n",
              "      <td>110246</td>\n",
              "      <td>91633</td>\n",
              "      <td>107124</td>\n",
              "      <td>115256</td>\n",
              "      <td>124117</td>\n",
              "    </tr>\n",
              "  </tbody>\n",
              "</table>\n",
              "</div>"
            ],
            "text/plain": [
              "        Tuesday  Wednesday  Thursday  Friday  Saturday  Sunday  Monday\n",
              "April     91185     108631     85067   90303     77218   51251   60861\n",
              "May      128921     133991    102990   56168     63846   76662   89857\n",
              "June      79656      94655     88134   99654    115325  105056   81364\n",
              "July     137454     147717    148439  102735     90260   76327   93189\n",
              "August   148674     132225    110246   91633    107124  115256  124117"
            ]
          },
          "metadata": {
            "tags": []
          },
          "execution_count": 253
        }
      ]
    },
    {
      "cell_type": "markdown",
      "metadata": {
        "id": "9eU-cyamiydy"
      },
      "source": [
        "### Plotting the results"
      ]
    },
    {
      "cell_type": "code",
      "metadata": {
        "id": "1OSMHvrJiydz",
        "outputId": "d697a3f6-a8de-4fc4-b0cc-fd9a4ea54562"
      },
      "source": [
        "df_month_weekday.plot(kind ='bar', figsize = (8,6), stacked = True)\n",
        "\n",
        "plt.xlabel('Month')\n",
        "\n",
        "plt.ylabel('Number of Trips')\n",
        "\n",
        "plt.title('Trips by Month and Weekday')\n",
        "\n",
        "plt.show()"
      ],
      "execution_count": null,
      "outputs": [
        {
          "output_type": "display_data",
          "data": {
            "image/png": "[encoded data removed]",
            "text/plain": [
              "<Figure size 576x432 with 1 Axes>"
            ]
          },
          "metadata": {
            "tags": [],
            "needs_background": "light"
          }
        }
      ]
    },
    {
      "cell_type": "code",
      "metadata": {
        "id": "T5Yau9Vxiydz",
        "outputId": "bceae844-d9cf-43a2-8882-8a43367e04bc"
      },
      "source": [
        "df_month_weekday.plot(kind ='bar', figsize = (18,6), width = 0.6)\n",
        "\n",
        "plt.xlabel('Month')\n",
        "\n",
        "plt.ylabel('Number of Trips')\n",
        "\n",
        "plt.title('Trips by Month and Weekday')\n",
        "\n",
        "plt.show()"
      ],
      "execution_count": null,
      "outputs": [
        {
          "output_type": "display_data",
          "data": {
            "image/png": "[encoded data removed]",
            "text/plain": [
              "<Figure size 1296x432 with 1 Axes>"
            ]
          },
          "metadata": {
            "tags": [],
            "needs_background": "light"
          }
        }
      ]
    },
    {
      "cell_type": "code",
      "metadata": {
        "id": "3pWD-vBGiyd2"
      },
      "source": [
        ""
      ],
      "execution_count": null,
      "outputs": []
    }
  ]
}